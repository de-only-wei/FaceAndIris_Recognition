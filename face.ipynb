{
 "cells": [
  {
   "cell_type": "markdown",
   "metadata": {},
   "source": [
    "# Imports"
   ]
  },
  {
   "cell_type": "code",
   "execution_count": null,
   "metadata": {},
   "outputs": [],
   "source": [
    "import face_utilities as face\n",
    "import os"
   ]
  },
  {
   "cell_type": "markdown",
   "metadata": {},
   "source": [
    "# Main"
   ]
  },
  {
   "cell_type": "code",
   "execution_count": null,
   "metadata": {},
   "outputs": [],
   "source": [
    "\n",
    "# Call functions directly without the 'face.' prefix\n",
    "# def face_data(): USE ONLY WHEN COMBINING THE DATASETS\n",
    "if __name__ == \"__main__\":\n",
    "    # PHASE 1 - Parse the face dataset\n",
    "    face_images = face.parse_face_dataset()\n",
    "    print(\"Parsing Face Dataset STARTED...\")\n",
    "    print(\"Parsing Face Dataset COMPLETE!\")\n",
    "\n",
    "    # PHASE 2 - Perform face detection\n",
    "    print(\"Face Image Preprocessing STARTED...\")\n",
    "    # Suppress display for face detection\n",
    "    face.face_detection(face_images, display=False)\n",
    "    print(\"Face Image Preprocessing COMPLETE!\")\n",
    "\n",
    "    # PHASE 3 - Perform facial feature extraction\n",
    "    print(\"Face Feature Extraction STARTED...\")\n",
    "    # Input directory containing images with detected faces\n",
    "    input_directory_detection = 'Face_Output/Face_Output_Detection'\n",
    "    # Output directory for saving images with landmarks and detected faces\n",
    "    output_directory_feature_extraction = 'Face_Output'\n",
    "    features, labels = face.facial_feature_extraction(\n",
    "        input_directory_detection, output_directory_feature_extraction)\n",
    "    print(\"Face Feature Extraction COMPLETE!\")\n",
    "\n",
    "    # PHASE 4 - Extract facial landmarks from an image\n",
    "    print(\"Extracting facial landmarks STARTED...\")\n",
    "    # Input directory containing images with extracted facial features\n",
    "    input_directory_extraction = 'Face_Output/Face_Output_Feature_Extraction'\n",
    "    # Output directory for saving images with facial landmarks\n",
    "    output_directory_landmarks = 'Face_Output'\n",
    "    face.extract_facial_landmarks(\n",
    "        input_directory_extraction, output_directory_landmarks)\n",
    "    print(\"Extracting facial landmarks COMPLETE!\")\n",
    "\n",
    "    # PHASE 5 - Convert facial landmarks into feature vectors\n",
    "    print(\"Converting facial landmarks to feature vectors STARTED...\")\n",
    "    face.landmarks_to_features(features, output_dir='Face_Output')\n",
    "    print(\"Converting facial landmarks to feature vectors COMPLETE!\")\n",
    "    print(\"Number of feature vectors generated:\", len(\n",
    "        os.listdir('Face_Output/Face_Output_LFCV')))\n",
    "\n",
    "    # PHASE 6 - Splitting Data (80% Training, 20% Test)\n",
    "    # Define directory paths\n",
    "    train_dir = 'Face_Output/Face_Output_Split_Train'\n",
    "    test_dir = 'Face_Output/Face_Output_Split_Test'\n",
    "\n",
    "    # Split the data\n",
    "    face.split_data(features, labels, train_dir, test_dir)"
   ]
  }
 ],
 "metadata": {
  "kernelspec": {
   "display_name": "Python 3",
   "language": "python",
   "name": "python3"
  },
  "language_info": {
   "codemirror_mode": {
    "name": "ipython",
    "version": 3
   },
   "file_extension": ".py",
   "mimetype": "text/x-python",
   "name": "python",
   "nbconvert_exporter": "python",
   "pygments_lexer": "ipython3",
   "version": "3.11.4"
  }
 },
 "nbformat": 4,
 "nbformat_minor": 2
}
