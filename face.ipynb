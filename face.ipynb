{
 "cells": [
  {
   "cell_type": "markdown",
   "metadata": {},
   "source": [
    "# IMPORTS"
   ]
  },
  {
   "cell_type": "code",
   "execution_count": 4,
   "metadata": {},
   "outputs": [
    {
     "ename": "ModuleNotFoundError",
     "evalue": "No module named 'cv2'",
     "output_type": "error",
     "traceback": [
      "\u001b[0;31m---------------------------------------------------------------------------\u001b[0m",
      "\u001b[0;31mModuleNotFoundError\u001b[0m                       Traceback (most recent call last)",
      "Cell \u001b[0;32mIn[4], line 1\u001b[0m\n\u001b[0;32m----> 1\u001b[0m \u001b[38;5;28;01mimport\u001b[39;00m \u001b[38;5;21;01mcv2\u001b[39;00m\n\u001b[1;32m      2\u001b[0m \u001b[38;5;28;01mimport\u001b[39;00m \u001b[38;5;21;01mos\u001b[39;00m\n\u001b[1;32m      3\u001b[0m \u001b[38;5;28;01mimport\u001b[39;00m \u001b[38;5;21;01mre\u001b[39;00m \n",
      "\u001b[0;31mModuleNotFoundError\u001b[0m: No module named 'cv2'"
     ]
    }
   ],
   "source": [
    "import os\n",
    "import cv2\n",
    "import re \n",
    "import warnings\n",
    "import tensorflow\n",
    "\n",
    "import keras\n",
    "import matplotlib.pyplot as plot\n",
    "import matplotlib.image as mpimg\n",
    "\n",
    "import numpy as np\n",
    "import glob\n",
    "import pickle\n"
   ]
  },
  {
   "cell_type": "markdown",
   "metadata": {},
   "source": [
    "# PARSE FACE DATASET"
   ]
  },
  {
   "cell_type": "code",
   "execution_count": 1,
   "metadata": {},
   "outputs": [],
   "source": [
    "base_directory = 'Dataset/VISA_Face/VISA_Face'\n",
    "face_images = []\n",
    "def parse_face_dataset():\n",
    "    for path in glob.iglob(base_directory+'/*'):\n",
    "        filename = os.path.basename(path)\n",
    "        \n",
    "        #string manipulation\n",
    "        underscore_index = filename.find(\"_\")\n",
    "        filename_parsed = filename[:underscore_index]    \n",
    "        match = re.search(r\"(.*?)_2017_001\", filename)\n",
    "        filename_parsed = match.group(1)\n",
    "        \n",
    "        label = filename_parsed\n",
    "        # print('label: ' + label)\n",
    "        # print('path: ' + path )\n",
    "        image_id = 0\n",
    "        \n",
    "        for image_path in glob.iglob(path + '/*'):\n",
    "            # print('image path: ' + image_path)\n",
    "\n",
    "            image = cv2.imread(image_path, cv2.IMREAD_GRAYSCALE)\n",
    "            # image = cv2.cvtColor(image, cv2.COLOR_BGR2GRAY)\n",
    "            image = cv2.resize(image, (400, 300))\n",
    "            face_images.append([image, image_id, label])\n",
    "            image_id += 1\n",
    "            \n",
    "    print('face images: ' + str(len(face_images)))   \n",
    "    return face_images   "
   ]
  },
  {
   "cell_type": "markdown",
   "metadata": {},
   "source": [
    "# FACE DETECTION"
   ]
  },
  {
   "cell_type": "code",
   "execution_count": null,
   "metadata": {},
   "outputs": [
    {
     "ename": "",
     "evalue": "",
     "output_type": "error",
     "traceback": [
      "\u001b[1;31mRunning cells with 'Python 3.12.3' requires the ipykernel package.\n",
      "\u001b[1;31mRun the following command to install 'ipykernel' into the Python environment. \n",
      "\u001b[1;31mCommand: '/opt/homebrew/bin/python3 -m pip install ipykernel -U --user --force-reinstall'"
     ]
    }
   ],
   "source": [
    "def face_detection(face_images, display):\n",
    "    \n",
    "    pre_processed_images = []\n",
    "    face_cascade = cv2.CascadeClassifier('haarcascade_frontalface_alt2.xml')\n",
    "\n",
    "    # Draw rectangle around the faces and crop the faces\n",
    "    for face_image in face_images:\n",
    "        (image, image_id, label) = face_image\n",
    "        image_id += 1\n",
    "        face = face_cascade.detectMultiScale(image, 1.1, 4)\n",
    "\n",
    "        for (x, y, width, height) in face:\n",
    "            face = image[y:y + height, x:x + width]\n",
    "            cv2.imshow(\"face\", face)\n",
    "            cv2.imwrite(\n",
    "                'Processed/'+str(label) + '.' +\n",
    "                str(image_id) + '.Face' + '.jpg',\n",
    "                face\n",
    "            )\n",
    "            pre_processed_images.append([face, image_id, label])\n",
    "\n",
    "            image_unboxed = image.copy()\n",
    "\n",
    "            image_cropped = image_unboxed[y:y + height,\n",
    "                                            x:x + width,]\n",
    "\n",
    "            image_boxed = cv2.rectangle(\n",
    "                image,\n",
    "                (x, y),\n",
    "                (x + width, y + height),\n",
    "                (255, 0, 0),\n",
    "                2,\n",
    "            )\n",
    "    \n",
    "    print(\"face image preprocessing done\")\n",
    "    if (display):\n",
    "        fig, axes = plot.subplots(1, 3, figsize=(12, 5))\n",
    "\n",
    "        axes[0].imshow(image_unboxed)\n",
    "        axes[0].set_title('Original Image')\n",
    "        axes[0].axis('off')  # Hide axes for cleaner presentation\n",
    "\n",
    "        axes[1].imshow(image_boxed)\n",
    "        axes[1].set_title('Haar Face Cascade Classifier Detection')\n",
    "        axes[1].axis('off')\n",
    "\n",
    "        axes[2].imshow(image_cropped)\n",
    "        axes[2].set_title('Cropped Face')\n",
    "        axes[2].axis('off')\n",
    "\n",
    "        plot.tight_layout()\n",
    "        plot.show()"
   ]
  },
  {
   "cell_type": "markdown",
   "metadata": {},
   "source": [
    "# MAIN"
   ]
  },
  {
   "cell_type": "code",
   "execution_count": null,
   "metadata": {},
   "outputs": [
    {
     "ename": "",
     "evalue": "",
     "output_type": "error",
     "traceback": [
      "\u001b[1;31mRunning cells with 'Python 3.12.3' requires the ipykernel package.\n",
      "\u001b[1;31mRun the following command to install 'ipykernel' into the Python environment. \n",
      "\u001b[1;31mCommand: '/opt/homebrew/bin/python3 -m pip install ipykernel -U --user --force-reinstall'"
     ]
    }
   ],
   "source": [
    "face_images = parse_face_dataset()\n",
    "face_detection(face_images, 1)"
   ]
  }
 ],
 "metadata": {
  "kernelspec": {
   "display_name": "Python 3",
   "language": "python",
   "name": "python3"
  },
  "language_info": {
   "codemirror_mode": {
    "name": "ipython",
    "version": 3
   },
   "file_extension": ".py",
   "mimetype": "text/x-python",
   "name": "python",
   "nbconvert_exporter": "python",
   "pygments_lexer": "ipython3",
   "version": "3.9.6"
  }
 },
 "nbformat": 4,
 "nbformat_minor": 2
}
