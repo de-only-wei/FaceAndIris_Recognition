{
 "cells": [
  {
   "cell_type": "code",
   "execution_count": 2,
   "metadata": {},
   "outputs": [],
   "source": [
    "import numpy as np\n",
    "import os"
   ]
  },
  {
   "cell_type": "code",
   "execution_count": 3,
   "metadata": {},
   "outputs": [],
   "source": [
    "train_dir = \"Face_Output/Face_Output_Split_Train\"\n",
    "test_dir = \"Face_Output/Face_Output_Split_Test\"\n",
    "# Load training data\n",
    "X_train = np.load(os.path.join(train_dir, 'X_train.npy'))\n",
    "y_train = np.load(os.path.join(train_dir, 'y_train.npy'))\n",
    "X_test = np.load(os.path.join(test_dir, \"X_test.npy\"))\n",
    "y_test = np.load(os.path.join(test_dir, \"y_test.npy\"))"
   ]
  },
  {
   "cell_type": "code",
   "execution_count": 7,
   "metadata": {},
   "outputs": [
    {
     "name": "stdout",
     "output_type": "stream",
     "text": [
      "['S0001_F_30_19_Cropped.jpg' 'S0009_M_22_19_Cropped.jpg'\n",
      " 'S0008_F_25_1_Cropped.jpg' 'S0003_M_32_7_Cropped.jpg'\n",
      " 'S0005_M_11_1_Cropped.jpg' 'S0005_M_11_26_Cropped.jpg'\n",
      " 'S0005_M_11_10_Cropped.jpg' 'S0018_F_43_4_Cropped.jpg'\n",
      " 'S0022_M_47_1_Cropped.jpg' 'S0013_M_34_3_Cropped.jpg'\n",
      " 'S0009_M_22_29_Cropped.jpg' 'S0022_M_47_6_Cropped.jpg'\n",
      " 'S0004_M_16_35_Cropped.jpg' 'S0004_M_16_19_Cropped.jpg'\n",
      " 'S0017_F_60_12_Cropped.jpg' 'S0008_F_25_18_Cropped.jpg'\n",
      " 'S0006_F_10_28_Cropped.jpg' 'S0023_F_22_6_Cropped.jpg'\n",
      " 'S0004_M_16_8_Cropped.jpg' 'S0009_M_22_30_Cropped.jpg'\n",
      " 'S0001_F_30_15_Cropped.jpg' 'S0003_M_32_3_Cropped.jpg'\n",
      " 'S0006_F_10_23_Cropped.jpg' 'S0021_M_25_12_Cropped.jpg'\n",
      " 'S0001_F_30_35_Cropped.jpg' 'S0005_M_11_9_Cropped.jpg'\n",
      " 'S0019_F_63_18_Cropped.jpg' 'S0015_M_26_7_Cropped.jpg'\n",
      " 'S0018_F_43_7_Cropped.jpg' 'S0014_M_54_6_Cropped.jpg'\n",
      " 'S0017_F_60_15_Cropped.jpg' 'S0019_F_63_25_Cropped.jpg'\n",
      " 'S0013_M_34_12_Cropped.jpg' 'S0014_M_54_18_Cropped.jpg'\n",
      " 'S0018_F_43_17_Cropped.jpg' 'S0021_M_25_16_Cropped.jpg'\n",
      " 'S0009_M_22_4_Cropped.jpg' 'S0004_M_16_20_Cropped.jpg'\n",
      " 'S0001_F_30_9_Cropped.jpg' 'S0004_M_16_26_Cropped.jpg'\n",
      " 'S0009_M_22_22_Cropped.jpg' 'S0019_F_63_26_Cropped.jpg'\n",
      " 'S0009_M_22_2_Cropped.jpg' 'S0006_F_10_10_Cropped.jpg'\n",
      " 'S0019_F_63_9_Cropped.jpg' 'S0003_M_32_6_Cropped.jpg'\n",
      " 'S0013_M_34_6_Cropped.jpg' 'S0022_M_47_16_Cropped.jpg'\n",
      " 'S0008_F_25_20_Cropped.jpg' 'S0008_F_25_27_Cropped.jpg'\n",
      " 'S0005_M_11_16_Cropped.jpg' 'S0001_F_30_25_Cropped.jpg'\n",
      " 'S0004_M_16_3_Cropped.jpg' 'S0008_F_25_24_Cropped.jpg'\n",
      " 'S0001_F_30_17_Cropped.jpg' 'S0004_M_16_39_Cropped.jpg'\n",
      " 'S0008_F_25_25_Cropped.jpg' 'S0022_M_47_10_Cropped.jpg'\n",
      " 'S0019_F_63_19_Cropped.jpg' 'S0009_M_22_18_Cropped.jpg'\n",
      " 'S0001_F_30_13_Cropped.jpg' 'S0009_M_22_27_Cropped.jpg'\n",
      " 'S0009_M_22_26_Cropped.jpg' 'S0015_M_26_1_Cropped.jpg'\n",
      " 'S0004_M_16_23_Cropped.jpg' 'S0018_F_43_3_Cropped.jpg']\n"
     ]
    }
   ],
   "source": [
    "# print(X_train)\n",
    "# print(y_train)\n",
    "print(X_test)\n",
    "# print(y_test)"
   ]
  }
 ],
 "metadata": {
  "kernelspec": {
   "display_name": "Python 3",
   "language": "python",
   "name": "python3"
  },
  "language_info": {
   "codemirror_mode": {
    "name": "ipython",
    "version": 3
   },
   "file_extension": ".py",
   "mimetype": "text/x-python",
   "name": "python",
   "nbconvert_exporter": "python",
   "pygments_lexer": "ipython3",
   "version": "3.12.3"
  }
 },
 "nbformat": 4,
 "nbformat_minor": 2
}
