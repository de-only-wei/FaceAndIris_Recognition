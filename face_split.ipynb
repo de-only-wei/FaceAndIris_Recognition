{
 "cells": [
  {
   "cell_type": "code",
   "execution_count": 27,
   "metadata": {},
   "outputs": [],
   "source": [
    "import os\n",
    "import cv2\n",
    "import shutil\n",
    "import random"
   ]
  },
  {
   "cell_type": "code",
   "execution_count": 28,
   "metadata": {},
   "outputs": [],
   "source": [
    "def face_detection(face_images, display):\n",
    "    # Initialize an empty list to store pre-processed images\n",
    "    pre_processed_images = []\n",
    "\n",
    "    # Load the pre-trained face cascade classifier\n",
    "    face_cascade = cv2.CascadeClassifier('haarcascade_frontalface_alt2.xml')\n",
    "\n",
    "    # Output directory for storing the detected faces\n",
    "    output_dir = os.path.join('Face_Output', 'Face_Output_Detection')\n",
    "\n",
    "    # Output directories for storing train and test data\n",
    "    train_output_dir = os.path.join(\n",
    "        'Face_Output', 'Face_Cropped', 'Face_Train')\n",
    "    test_output_dir = os.path.join('Face_Output', 'Face_Cropped', 'Face_Test')\n",
    "\n",
    "    # Clear output directories if they already exist\n",
    "    for output_dir in [output_dir, train_output_dir, test_output_dir]:\n",
    "        if os.path.exists(output_dir):\n",
    "            shutil.rmtree(output_dir)\n",
    "        os.makedirs(output_dir, exist_ok=True)\n",
    "\n",
    "    # Shuffle the face images randomly\n",
    "    random.shuffle(face_images)\n",
    "\n",
    "    # Split the data into train and test sets (80% train, 20% test)\n",
    "    num_train = int(0.8 * len(face_images))\n",
    "    train_images = face_images[:num_train]\n",
    "    test_images = face_images[num_train:]\n",
    "\n",
    "    # Define the output directory based on whether the image is in the train or test set\n",
    "    def get_output_dir(image):\n",
    "        return train_output_dir if image in train_images else test_output_dir\n",
    "\n",
    "    # Iterate over each face image in the input list\n",
    "    for face_image in face_images:\n",
    "        # Unpack the face image tuple into image, image_id, and label\n",
    "        (image, image_id, label) = face_image\n",
    "        image_id += 1  # Increment image ID\n",
    "\n",
    "        # Detect faces in the image using the cascade classifier\n",
    "        faces = face_cascade.detectMultiScale(image, 1.1, 4)\n",
    "\n",
    "        # Iterate over each detected face\n",
    "        for (x, y, width, height) in faces:\n",
    "            # Crop the detected face from the original image\n",
    "            face = image[y:y + height, x:x + width]\n",
    "\n",
    "            # Save the cropped face image to the output directory\n",
    "            output_path = os.path.join(\n",
    "                get_output_dir(face_image), f'{label}_{image_id}_Cropped.jpg')\n",
    "            cv2.imwrite(output_path, face)\n",
    "\n",
    "            # Append the cropped face image, image ID, and label to the pre_processed_images list\n",
    "            pre_processed_images.append([face, image_id, label])\n",
    "\n",
    "    return pre_processed_images"
   ]
  },
  {
   "cell_type": "code",
   "execution_count": 29,
   "metadata": {},
   "outputs": [
    {
     "ename": "ModuleNotFoundError",
     "evalue": "No module named 'face'",
     "output_type": "error",
     "traceback": [
      "\u001b[1;31m---------------------------------------------------------------------------\u001b[0m",
      "\u001b[1;31mModuleNotFoundError\u001b[0m                       Traceback (most recent call last)",
      "Cell \u001b[1;32mIn[29], line 2\u001b[0m\n\u001b[0;32m      1\u001b[0m \u001b[38;5;66;03m# Import the load_face_images function from the face_detection_module\u001b[39;00m\n\u001b[1;32m----> 2\u001b[0m \u001b[38;5;28;01mfrom\u001b[39;00m \u001b[38;5;21;01mface\u001b[39;00m \u001b[38;5;28;01mimport\u001b[39;00m load_face_images\n\u001b[0;32m      4\u001b[0m \u001b[38;5;66;03m# Execute main function if this script is run directly\u001b[39;00m\n\u001b[0;32m      5\u001b[0m \u001b[38;5;28;01mif\u001b[39;00m \u001b[38;5;18m__name__\u001b[39m \u001b[38;5;241m==\u001b[39m \u001b[38;5;124m\"\u001b[39m\u001b[38;5;124m__main__\u001b[39m\u001b[38;5;124m\"\u001b[39m:\n\u001b[0;32m      6\u001b[0m     \u001b[38;5;66;03m# Load face images or obtain them from wherever they are stored\u001b[39;00m\n",
      "\u001b[1;31mModuleNotFoundError\u001b[0m: No module named 'face'"
     ]
    }
   ],
   "source": [
    "# Import the load_face_images function from the face_detection_module\n",
    "from face import load_face_images\n",
    "\n",
    "# Execute main function if this script is run directly\n",
    "if __name__ == \"__main__\":\n",
    "    # Load face images or obtain them from wherever they are stored\n",
    "    face_images = load_face_images('Face_Output_Detection')\n",
    "\n",
    "    # Perform face detection\n",
    "    print(\"Face Detection and Data Splitting STARTED...\")\n",
    "    pre_processed_images = face_detection(face_images, display=False)\n",
    "    print(\"Face Detection and Data Splitting COMPLETE!\")"
   ]
  }
 ],
 "metadata": {
  "kernelspec": {
   "display_name": "Python 3",
   "language": "python",
   "name": "python3"
  },
  "language_info": {
   "codemirror_mode": {
    "name": "ipython",
    "version": 3
   },
   "file_extension": ".py",
   "mimetype": "text/x-python",
   "name": "python",
   "nbconvert_exporter": "python",
   "pygments_lexer": "ipython3",
   "version": "3.11.4"
  }
 },
 "nbformat": 4,
 "nbformat_minor": 2
}
