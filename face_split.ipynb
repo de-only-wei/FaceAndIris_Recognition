{
 "cells": [
  {
   "cell_type": "code",
   "execution_count": 4,
   "metadata": {},
   "outputs": [],
   "source": [
    "import os\n",
    "import shutil\n",
    "import random"
   ]
  },
  {
   "cell_type": "code",
   "execution_count": 5,
   "metadata": {},
   "outputs": [
    {
     "name": "stdout",
     "output_type": "stream",
     "text": [
      "Dataset split successfully!\n"
     ]
    }
   ],
   "source": [
    "def split_dataset(input_folder, output_folder, train_ratio=0.8):\n",
    "    # Clear output folders if they exist\n",
    "    train_folder = os.path.join(output_folder, 'Train')\n",
    "    test_folder = os.path.join(output_folder, 'Test')\n",
    "    if os.path.exists(train_folder):\n",
    "        shutil.rmtree(train_folder)\n",
    "    if os.path.exists(test_folder):\n",
    "        shutil.rmtree(test_folder)\n",
    "\n",
    "    # Create output folders\n",
    "    os.makedirs(train_folder)\n",
    "    os.makedirs(test_folder)\n",
    "\n",
    "    # Get list of files\n",
    "    input_subfolder = os.path.join(input_folder, 'Face_Output_Detection')\n",
    "    files = os.listdir(input_subfolder)\n",
    "    random.shuffle(files)\n",
    "\n",
    "    # Calculate split indices\n",
    "    num_train = int(len(files) * train_ratio)\n",
    "    train_files = files[:num_train]\n",
    "    test_files = files[num_train:]\n",
    "\n",
    "    # Copy files to train and test folders\n",
    "    for file in train_files:\n",
    "        src = os.path.join(input_subfolder, file)\n",
    "        dst = os.path.join(train_folder, file)\n",
    "        shutil.copy(src, dst)\n",
    "\n",
    "    for file in test_files:\n",
    "        src = os.path.join(input_subfolder, file)\n",
    "        dst = os.path.join(test_folder, file)\n",
    "        shutil.copy(src, dst)\n",
    "\n",
    "\n",
    "# Input and output folders\n",
    "input_folder = \"Face_Output\"\n",
    "output_folder = \"Face_Output/Face_Cropped_Split\"\n",
    "\n",
    "# Split the dataset\n",
    "split_dataset(input_folder, output_folder)\n",
    "\n",
    "print(\"Dataset split successfully!\")"
   ]
  }
 ],
 "metadata": {
  "kernelspec": {
   "display_name": "Python 3",
   "language": "python",
   "name": "python3"
  },
  "language_info": {
   "codemirror_mode": {
    "name": "ipython",
    "version": 3
   },
   "file_extension": ".py",
   "mimetype": "text/x-python",
   "name": "python",
   "nbconvert_exporter": "python",
   "pygments_lexer": "ipython3",
   "version": "3.11.4"
  }
 },
 "nbformat": 4,
 "nbformat_minor": 2
}
