{
 "cells": [
  {
   "cell_type": "code",
   "execution_count": 1,
   "metadata": {},
   "outputs": [],
   "source": [
    "import numpy as np\n",
    "import os"
   ]
  },
  {
   "cell_type": "code",
   "execution_count": null,
   "metadata": {},
   "outputs": [],
   "source": [
    "train_directory = 'Face_Output/Face_Output_Split_Train'\n",
    "test_directory = 'Face_Output/Face_Output_Split_Test'"
   ]
  },
  {
   "cell_type": "code",
   "execution_count": 4,
   "metadata": {},
   "outputs": [],
   "source": [
    "train_directory = 'Iris_Output/Iris_Output_Split_Train'\n",
    "test_directory = 'Iris_Output/Iris_Output_Split_Test'"
   ]
  },
  {
   "cell_type": "code",
   "execution_count": 7,
   "metadata": {},
   "outputs": [],
   "source": [
    "# Load training data\n",
    "X_train = np.load(os.path.join(train_directory, 'X_train.npy'))\n",
    "y_train = np.load(os.path.join(train_directory, 'y_train.npy'))\n",
    "X_test = np.load(os.path.join(test_directory, \"X_test.npy\"))\n",
    "y_test = np.load(os.path.join(test_directory, \"y_test.npy\"))"
   ]
  },
  {
   "cell_type": "code",
   "execution_count": 10,
   "metadata": {},
   "outputs": [
    {
     "name": "stdout",
     "output_type": "stream",
     "text": [
      "['no_reflection']\n"
     ]
    }
   ],
   "source": [
    "# print(X_train)\n",
    "# print(y_train)\n",
    "# print(X_test)\n",
    "print(y_test)"
   ]
  }
 ],
 "metadata": {
  "kernelspec": {
   "display_name": "Python 3",
   "language": "python",
   "name": "python3"
  },
  "language_info": {
   "codemirror_mode": {
    "name": "ipython",
    "version": 3
   },
   "file_extension": ".py",
   "mimetype": "text/x-python",
   "name": "python",
   "nbconvert_exporter": "python",
   "pygments_lexer": "ipython3",
   "version": "3.11.7"
  }
 },
 "nbformat": 4,
 "nbformat_minor": 2
}
