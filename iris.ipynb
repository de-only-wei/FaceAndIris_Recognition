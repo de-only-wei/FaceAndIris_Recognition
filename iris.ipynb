{
   "cells": [
      {
         "cell_type": "markdown",
         "metadata": {},
         "source": [
            "# Imports"
         ]
      },
      {
         "cell_type": "code",
         "execution_count": null,
         "metadata": {},
         "outputs": [],
         "source": [
            "import iris_utilities as iris"
         ]
      },
      {
         "cell_type": "markdown",
         "metadata": {},
         "source": [
            "# Main"
         ]
      },
      {
         "cell_type": "code",
         "execution_count": null,
         "metadata": {},
         "outputs": [],
         "source": [
            "\n",
            "# Parse the iris dataset to get the list of eye images\n",
            "eye_images = iris.parse_iris_dataset()\n",
            "\n",
            "# Call the iris_detection function to detect irises in the eye images and display the results\n",
            "iris.iris_detection(eye_images, display=1)"
         ]
      }
   ],
   "metadata": {
      "kernelspec": {
         "display_name": "Python 3",
         "language": "python",
         "name": "python3"
      },
      "language_info": {
         "codemirror_mode": {
            "name": "ipython",
            "version": 3
         },
         "file_extension": ".py",
         "mimetype": "text/x-python",
         "name": "python",
         "nbconvert_exporter": "python",
         "pygments_lexer": "ipython3",
         "version": "3.11.4"
      }
   },
   "nbformat": 4,
   "nbformat_minor": 2
}
