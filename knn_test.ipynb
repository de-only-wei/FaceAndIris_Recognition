{
 "cells": [
  {
   "cell_type": "code",
   "execution_count": 2,
   "metadata": {},
   "outputs": [],
   "source": [
    "import numpy\n",
    "import cv2\n",
    "import os.path\n",
    "import pickle\n",
    "import sklearn.model_selection as model_selection"
   ]
  },
  {
   "cell_type": "code",
   "execution_count": 3,
   "metadata": {},
   "outputs": [],
   "source": [
    "%reload_ext autoreload\n",
    "%autoreload 2\n",
    "import knn_utilities as knn"
   ]
  },
  {
   "cell_type": "markdown",
   "metadata": {},
   "source": [
    "#### Run for Face Mode"
   ]
  },
  {
   "cell_type": "code",
   "execution_count": 24,
   "metadata": {},
   "outputs": [],
   "source": [
    "features = numpy.load(os.path.join('Face_Output', 'features.npy'))\n",
    "labels = numpy.load(os.path.join('Face_Output', 'feature_labels.npy'))\n",
    "\n",
    "model_path = 'face_knn_model.clf'"
   ]
  },
  {
   "cell_type": "markdown",
   "metadata": {},
   "source": [
    "Run for Left Iris Mode"
   ]
  },
  {
   "cell_type": "code",
   "execution_count": 4,
   "metadata": {},
   "outputs": [],
   "source": [
    "features = numpy.load(os.path.join('Iris_Output', 'features_L.npy'))\n",
    "labels = numpy.load(os.path.join('Iris_Output', 'feature_labels_L.npy'))\n",
    "\n",
    "model_path = 'iris_knn_model_L.clf'"
   ]
  },
  {
   "cell_type": "markdown",
   "metadata": {},
   "source": [
    "Run for Right Iris Mode"
   ]
  },
  {
   "cell_type": "code",
   "execution_count": null,
   "metadata": {},
   "outputs": [],
   "source": [
    "features = numpy.load(os.path.join('Iris_Output', 'features_R.npy'))\n",
    "labels = numpy.load(os.path.join('Iris_Output', 'feature_labels_R.npy'))\n",
    "\n",
    "model_path = 'iris_knn_model_R.clf'"
   ]
  },
  {
   "cell_type": "markdown",
   "metadata": {},
   "source": [
    "#### STEP 1: Train the KNN classifier and save it to disk\n"
   ]
  },
  {
   "cell_type": "code",
   "execution_count": 5,
   "metadata": {},
   "outputs": [
    {
     "name": "stdout",
     "output_type": "stream",
     "text": [
      "Training KNN classifier...\n",
      "Training complete!\n"
     ]
    }
   ],
   "source": [
    "# Once the model is trained and saved, you can skip this step next time.\n",
    "print(\"Training KNN classifier...\")\n",
    "\n",
    "x_train, x_test, y_train, y_test = model_selection.train_test_split(\n",
    "    features, labels, test_size=0.2\n",
    ")\n",
    "\n",
    "model = knn.train(\n",
    "    x_train, \n",
    "    y_train,\n",
    "    n_neighbors=2,\n",
    ")\n",
    "\n",
    "pickle.dump(model, open(os.path.join(model_path), 'wb'))\n",
    "\n",
    "print(\"Training complete!\")"
   ]
  },
  {
   "cell_type": "markdown",
   "metadata": {},
   "source": [
    "#### STEP 2: Using the trained classifier, make predictions for unknown images"
   ]
  },
  {
   "cell_type": "code",
   "execution_count": 8,
   "metadata": {},
   "outputs": [
    {
     "name": "stdout",
     "output_type": "stream",
     "text": [
      "Accuracy: 0.8604651162790697\n"
     ]
    }
   ],
   "source": [
    "\n",
    "\n",
    "model = pickle.load(open(os.path.join(model_path), 'rb'))\n",
    "\n",
    "predicted_labels, accuracy = knn.predict(x_test, y_test, model=model)\n",
    "\n",
    "print('Accuracy:', accuracy)\n",
    "\n",
    "cv2.destroyAllWindows()"
   ]
  },
  {
   "cell_type": "code",
   "execution_count": 31,
   "metadata": {},
   "outputs": [
    {
     "name": "stdout",
     "output_type": "stream",
     "text": [
      "Peak accuracy: 0.7014925373134329\n"
     ]
    },
    {
     "ename": "",
     "evalue": "",
     "output_type": "error",
     "traceback": [
      "\u001b[1;31mThe Kernel crashed while executing code in the current cell or a previous cell. \n",
      "\u001b[1;31mPlease review the code in the cell(s) to identify a possible cause of the failure. \n",
      "\u001b[1;31mClick <a href='https://aka.ms/vscodeJupyterKernelCrash'>here</a> for more info. \n",
      "\u001b[1;31mView Jupyter <a href='command:jupyter.viewOutput'>log</a> for further details."
     ]
    }
   ],
   "source": [
    "i = 0\n",
    "peak_accuracy = 0\n",
    "while i < 100000:\n",
    "    i += 1\n",
    "\n",
    "    x_train, x_test, y_train, y_test = model_selection.train_test_split(\n",
    "        features, labels, test_size=0.2\n",
    "    )\n",
    "\n",
    "    model = knn.train(\n",
    "        x_train,\n",
    "        y_train,\n",
    "        n_neighbors=2,\n",
    "    )\n",
    "\n",
    "    predicted_labels, accuracy = knn.predict(x_test, y_test, model=model)\n",
    "\n",
    "    if (accuracy > peak_accuracy):\n",
    "        peak_accuracy = accuracy\n",
    "\n",
    "    if (accuracy > 0.75):\n",
    "        print('Iteration:', i)\n",
    "        print('Accuracy:', accuracy)\n",
    "        break\n",
    "\n",
    "print('Peak accuracy:', peak_accuracy)"
   ]
  }
 ],
 "metadata": {
  "kernelspec": {
   "display_name": "Python 3",
   "language": "python",
   "name": "python3"
  },
  "language_info": {
   "codemirror_mode": {
    "name": "ipython",
    "version": 3
   },
   "file_extension": ".py",
   "mimetype": "text/x-python",
   "name": "python",
   "nbconvert_exporter": "python",
   "pygments_lexer": "ipython3",
   "version": "3.11.7"
  }
 },
 "nbformat": 4,
 "nbformat_minor": 2
}
