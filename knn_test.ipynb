{
 "cells": [
  {
   "cell_type": "code",
   "execution_count": 29,
   "metadata": {},
   "outputs": [],
   "source": [
    "import numpy as np\n",
    "import cv2\n",
    "import os.path\n",
    "import pickle"
   ]
  },
  {
   "cell_type": "code",
   "execution_count": 6,
   "metadata": {},
   "outputs": [],
   "source": [
    "%reload_ext autoreload\n",
    "%autoreload 2\n",
    "import knn_utilities as knn"
   ]
  },
  {
   "cell_type": "markdown",
   "metadata": {},
   "source": [
    "#### STEP 1: Train the KNN classifier and save it to disk\n"
   ]
  },
  {
   "cell_type": "code",
   "execution_count": 36,
   "metadata": {},
   "outputs": [
    {
     "name": "stdout",
     "output_type": "stream",
     "text": [
      "Training KNN classifier...\n",
      "Training complete!\n"
     ]
    }
   ],
   "source": [
    "# Once the model is trained and saved, you can skip this step next time.\n",
    "print(\"Training KNN classifier...\")\n",
    "\n",
    "# Load training data\n",
    "train_directory = 'Face_Output/Face_Output_Split_Train'\n",
    "x_train = np.load(os.path.join(train_directory, 'X_train.npy'))\n",
    "y_train = np.load(os.path.join(train_directory, 'y_train.npy'))\n",
    "\n",
    "model = knn.train(\n",
    "    x_train, \n",
    "    y_train,\n",
    "    n_neighbors=2,\n",
    ")\n",
    "\n",
    "pickle.dump(model, open(os.path.join('trained_knn_model.clf'), 'wb'))\n",
    "\n",
    "print(\"Training complete!\")"
   ]
  },
  {
   "cell_type": "markdown",
   "metadata": {},
   "source": [
    "#### STEP 2: Using the trained classifier, make predictions for unknown images"
   ]
  },
  {
   "cell_type": "code",
   "execution_count": 37,
   "metadata": {},
   "outputs": [
    {
     "name": "stdout",
     "output_type": "stream",
     "text": [
      "Data 1 Predicted Label: S0006_F_10_11_Cropped.jpg Actual Label: S0014_M_54_18_Cropped.jpg\n",
      "Data 2 Predicted Label: S0006_F_10_9_Cropped.jpg Actual Label: S0006_F_10_10_Cropped.jpg\n",
      "Data 3 Predicted Label: S0015_M_26_13_Cropped.jpg Actual Label: S0015_M_26_2_Cropped.jpg\n",
      "Data 4 Predicted Label: S0001_F_30_20_Cropped.jpg Actual Label: S0001_F_30_19_Cropped.jpg\n",
      "Data 5 Predicted Label: S0004_M_16_18_Cropped.jpg Actual Label: S0005_M_11_1_Cropped.jpg\n",
      "Data 6 Predicted Label: S0013_M_34_4_Cropped.jpg Actual Label: S0013_M_34_5_Cropped.jpg\n",
      "Data 7 Predicted Label: S0003_M_32_2_Cropped.jpg Actual Label: S0021_M_25_3_Cropped.jpg\n",
      "Data 8 Predicted Label: S0018_F_43_9_Cropped.jpg Actual Label: S0012_M_54_18_Cropped.jpg\n",
      "Data 9 Predicted Label: S0018_F_43_10_Cropped.jpg Actual Label: S0012_M_54_6_Cropped.jpg\n",
      "Data 10 Predicted Label: S0008_F_25_19_Cropped.jpg Actual Label: S0005_M_11_27_Cropped.jpg\n",
      "Data 11 Predicted Label: S0009_M_22_5_Cropped.jpg Actual Label: S0009_M_22_4_Cropped.jpg\n",
      "Data 12 Predicted Label: S0022_M_47_10_Cropped.jpg Actual Label: S0022_M_47_14_Cropped.jpg\n",
      "Data 13 Predicted Label: S0022_M_47_8_Cropped.jpg Actual Label: S0022_M_47_9_Cropped.jpg\n",
      "Data 14 Predicted Label: S0008_F_25_23_Cropped.jpg Actual Label: S0008_F_25_20_Cropped.jpg\n",
      "Data 15 Predicted Label: S0008_F_25_26_Cropped.jpg Actual Label: S0018_F_43_13_Cropped.jpg\n",
      "Data 16 Predicted Label: S0008_F_25_7_Cropped.jpg Actual Label: S0008_F_25_9_Cropped.jpg\n",
      "Data 17 Predicted Label: S0008_F_25_24_Cropped.jpg Actual Label: S0008_F_25_27_Cropped.jpg\n",
      "Data 18 Predicted Label: S0001_F_30_25_Cropped.jpg Actual Label: S0008_F_25_25_Cropped.jpg\n",
      "Data 19 Predicted Label: S0001_F_30_35_Cropped.jpg Actual Label: S0001_F_30_36_Cropped.jpg\n",
      "Data 20 Predicted Label: S0001_F_30_16_Cropped.jpg Actual Label: S0001_F_30_15_Cropped.jpg\n",
      "Data 21 Predicted Label: S0004_M_16_7_Cropped.jpg Actual Label: S0004_M_16_9_Cropped.jpg\n",
      "Data 22 Predicted Label: S0013_M_34_10_Cropped.jpg Actual Label: S0009_M_22_33_Cropped.jpg\n",
      "Data 23 Predicted Label: S0004_M_16_14_Cropped.jpg Actual Label: S0004_M_16_10_Cropped.jpg\n",
      "Data 24 Predicted Label: S0019_F_63_15_Cropped.jpg Actual Label: S0019_F_63_20_Cropped.jpg\n",
      "Data 25 Predicted Label: S0005_M_11_21_Cropped.jpg Actual Label: S0005_M_11_20_Cropped.jpg\n",
      "Data 26 Predicted Label: S0013_M_34_1_Cropped.jpg Actual Label: S0023_F_22_13_Cropped.jpg\n",
      "Data 27 Predicted Label: S0005_M_11_21_Cropped.jpg Actual Label: S0006_F_10_14_Cropped.jpg\n",
      "Data 28 Predicted Label: S0006_F_10_17_Cropped.jpg Actual Label: S0006_F_10_23_Cropped.jpg\n",
      "Data 29 Predicted Label: S0004_M_16_26_Cropped.jpg Actual Label: S0004_M_16_27_Cropped.jpg\n",
      "Data 30 Predicted Label: S0017_F_60_3_Cropped.jpg Actual Label: S0021_M_25_4_Cropped.jpg\n",
      "Data 31 Predicted Label: S0015_M_26_7_Cropped.jpg Actual Label: S0015_M_26_14_Cropped.jpg\n",
      "Data 32 Predicted Label: S0015_M_26_7_Cropped.jpg Actual Label: S0013_M_34_12_Cropped.jpg\n",
      "Data 33 Predicted Label: S0015_M_26_3_Cropped.jpg Actual Label: S0015_M_26_6_Cropped.jpg\n",
      "Data 34 Predicted Label: S0004_M_16_13_Cropped.jpg Actual Label: S0009_M_22_31_Cropped.jpg\n",
      "Data 35 Predicted Label: S0004_M_16_29_Cropped.jpg Actual Label: S0021_M_25_12_Cropped.jpg\n",
      "Data 36 Predicted Label: S0009_M_22_15_Cropped.jpg Actual Label: S0009_M_22_2_Cropped.jpg\n",
      "Data 37 Predicted Label: S0004_M_16_7_Cropped.jpg Actual Label: S0004_M_16_1_Cropped.jpg\n",
      "Data 38 Predicted Label: S0005_M_11_3_Cropped.jpg Actual Label: S0002_M_24_10_Cropped.jpg\n",
      "Data 39 Predicted Label: S0016_M_34_2_Cropped.jpg Actual Label: S0009_M_22_19_Cropped.jpg\n",
      "Data 40 Predicted Label: S0009_M_22_15_Cropped.jpg Actual Label: S0009_M_22_22_Cropped.jpg\n",
      "Data 41 Predicted Label: S0019_F_63_11_Cropped.jpg Actual Label: S0019_F_63_18_Cropped.jpg\n",
      "Data 42 Predicted Label: S0003_M_32_5_Cropped.jpg Actual Label: S0003_M_32_4_Cropped.jpg\n",
      "Data 43 Predicted Label: S0006_F_10_25_Cropped.jpg Actual Label: S0006_F_10_24_Cropped.jpg\n",
      "Data 44 Predicted Label: S0004_M_16_2_Cropped.jpg Actual Label: S0009_M_22_28_Cropped.jpg\n",
      "Data 45 Predicted Label: S0014_M_54_7_Cropped.jpg Actual Label: S0003_M_32_7_Cropped.jpg\n",
      "Data 46 Predicted Label: S0004_M_16_32_Cropped.jpg Actual Label: S0021_M_25_15_Cropped.jpg\n",
      "Data 47 Predicted Label: S0017_F_60_7_Cropped.jpg Actual Label: S0005_M_11_11_Cropped.jpg\n",
      "Data 48 Predicted Label: S0019_F_63_16_Cropped.jpg Actual Label: S0019_F_63_26_Cropped.jpg\n",
      "Data 49 Predicted Label: S0004_M_16_29_Cropped.jpg Actual Label: S0004_M_16_21_Cropped.jpg\n",
      "Data 50 Predicted Label: S0009_M_22_3_Cropped.jpg Actual Label: S0001_F_30_26_Cropped.jpg\n",
      "Data 51 Predicted Label: S0004_M_16_7_Cropped.jpg Actual Label: S0004_M_16_3_Cropped.jpg\n",
      "Data 52 Predicted Label: S0009_M_22_17_Cropped.jpg Actual Label: S0005_M_11_17_Cropped.jpg\n",
      "Data 53 Predicted Label: S0015_M_26_17_Cropped.jpg Actual Label: S0001_F_30_17_Cropped.jpg\n",
      "Data 54 Predicted Label: S0008_F_25_10_Cropped.jpg Actual Label: S0004_M_16_39_Cropped.jpg\n",
      "Data 55 Predicted Label: S0004_M_16_14_Cropped.jpg Actual Label: S0004_M_16_4_Cropped.jpg\n",
      "Data 56 Predicted Label: S0019_F_63_8_Cropped.jpg Actual Label: S0019_F_63_22_Cropped.jpg\n",
      "Data 57 Predicted Label: S0019_F_63_21_Cropped.jpg Actual Label: S0019_F_63_19_Cropped.jpg\n",
      "Data 58 Predicted Label: S0009_M_22_20_Cropped.jpg Actual Label: S0009_M_22_30_Cropped.jpg\n",
      "Data 59 Predicted Label: S0001_F_30_12_Cropped.jpg Actual Label: S0001_F_30_13_Cropped.jpg\n",
      "Data 60 Predicted Label: S0014_M_54_4_Cropped.jpg Actual Label: S0004_M_16_36_Cropped.jpg\n",
      "Data 61 Predicted Label: S0014_M_54_6_Cropped.jpg Actual Label: S0023_F_22_6_Cropped.jpg\n",
      "Data 62 Predicted Label: S0006_F_10_18_Cropped.jpg Actual Label: S0015_M_26_18_Cropped.jpg\n",
      "Data 63 Predicted Label: S0003_M_32_10_Cropped.jpg Actual Label: S0004_M_16_24_Cropped.jpg\n",
      "Data 64 Predicted Label: S0008_F_25_3_Cropped.jpg Actual Label: S0006_F_10_29_Cropped.jpg\n",
      "Data 65 Predicted Label: S0017_F_60_12_Cropped.jpg Actual Label: S0017_F_60_15_Cropped.jpg\n",
      "Data 66 Predicted Label: S0009_M_22_13_Cropped.jpg Actual Label: S0009_M_22_27_Cropped.jpg\n",
      "Accuracy: 0.0\n"
     ]
    }
   ],
   "source": [
    "# Load test data and model\n",
    "test_directory = 'Face_Output/Face_Output_Split_Test'\n",
    "x_test = np.load(os.path.join(test_directory, 'X_test.npy'))\n",
    "y_test = np.load(os.path.join(test_directory, 'y_test.npy'))\n",
    "\n",
    "model = pickle.load(open(os.path.join('trained_knn_model.clf'), 'rb'))\n",
    "\n",
    "predicted_labels = knn.predict(x_test, y_test, model=model)\n",
    "\n",
    "cv2.destroyAllWindows()"
   ]
  }
 ],
 "metadata": {
  "kernelspec": {
   "display_name": "Python 3",
   "language": "python",
   "name": "python3"
  },
  "language_info": {
   "codemirror_mode": {
    "name": "ipython",
    "version": 3
   },
   "file_extension": ".py",
   "mimetype": "text/x-python",
   "name": "python",
   "nbconvert_exporter": "python",
   "pygments_lexer": "ipython3",
   "version": "3.11.7"
  }
 },
 "nbformat": 4,
 "nbformat_minor": 2
}
