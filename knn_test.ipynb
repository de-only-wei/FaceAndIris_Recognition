{
 "cells": [
  {
   "cell_type": "code",
   "execution_count": 1,
   "metadata": {},
   "outputs": [],
   "source": [
    "import numpy as np\n",
    "import cv2\n",
    "import os.path\n",
    "import pickle\n",
    "import sklearn.model_selection as model_selection"
   ]
  },
  {
   "cell_type": "code",
   "execution_count": 2,
   "metadata": {},
   "outputs": [],
   "source": [
    "%reload_ext autoreload\n",
    "%autoreload 2\n",
    "import knn_utilities as knn"
   ]
  },
  {
   "cell_type": "markdown",
   "metadata": {},
   "source": [
    "#### Run for Face Mode"
   ]
  },
  {
   "cell_type": "code",
   "execution_count": 24,
   "metadata": {},
   "outputs": [],
   "source": [
    "features = np.load(os.path.join('Face_Output', 'features.npy'))\n",
    "labels = np.load(os.path.join('Face_Output', 'feature_labels.npy'))\n",
    "\n",
    "x_train, x_test, y_train, y_test = model_selection.train_test_split(\n",
    "    features, labels, test_size=0.2\n",
    ")\n",
    "\n",
    "model_path = 'face_knn_model.clf'"
   ]
  },
  {
   "cell_type": "markdown",
   "metadata": {},
   "source": [
    "#### Run for Iris Mode"
   ]
  },
  {
   "cell_type": "code",
   "execution_count": 17,
   "metadata": {},
   "outputs": [],
   "source": [
    "train_directory = 'Iris_Output/Iris_Output_Split_Train'\n",
    "test_directory = 'Iris_Output/Iris_Output_Split_Test'\n",
    "\n",
    "x_train = np.load(os.path.join(train_directory, 'X_train.npy'))\n",
    "y_train = np.load(os.path.join(train_directory, 'y_train.npy'))\n",
    "\n",
    "x_test = np.load(os.path.join(test_directory, 'X_test.npy'))\n",
    "y_test = np.load(os.path.join(test_directory, 'y_test.npy'))\n",
    "\n",
    "model_path = 'iris_knn_model.clf'"
   ]
  },
  {
   "cell_type": "markdown",
   "metadata": {},
   "source": [
    "#### STEP 1: Train the KNN classifier and save it to disk\n"
   ]
  },
  {
   "cell_type": "code",
   "execution_count": 25,
   "metadata": {},
   "outputs": [
    {
     "name": "stdout",
     "output_type": "stream",
     "text": [
      "Training KNN classifier...\n",
      "Training complete!\n"
     ]
    }
   ],
   "source": [
    "# Once the model is trained and saved, you can skip this step next time.\n",
    "print(\"Training KNN classifier...\")\n",
    "\n",
    "model = knn.train(\n",
    "    x_train, \n",
    "    y_train,\n",
    "    n_neighbors=2,\n",
    ")\n",
    "\n",
    "pickle.dump(model, open(os.path.join(model_path), 'wb'))\n",
    "\n",
    "print(\"Training complete!\")"
   ]
  },
  {
   "cell_type": "markdown",
   "metadata": {},
   "source": [
    "#### STEP 2: Using the trained classifier, make predictions for unknown images"
   ]
  },
  {
   "cell_type": "code",
   "execution_count": 26,
   "metadata": {},
   "outputs": [
    {
     "name": "stdout",
     "output_type": "stream",
     "text": [
      "Data 1 Predicted Label: S0019_F_63 Actual Label: S0016_M_34\n",
      "Data 2 Predicted Label: S0015_M_26 Actual Label: S0017_F_60\n",
      "Data 3 Predicted Label: S0009_M_22 Actual Label: S0001_F_30\n",
      "Data 4 Predicted Label: S0018_F_43 Actual Label: S0002_M_24\n",
      "Data 5 Predicted Label: S0004_M_16 Actual Label: S0009_M_22\n",
      "Data 6 Predicted Label: S0007_F_23 Actual Label: S0007_F_23\n",
      "Data 7 Predicted Label: S0013_M_34 Actual Label: S0009_M_22\n",
      "Data 8 Predicted Label: S0009_M_22 Actual Label: S0009_M_22\n",
      "Data 9 Predicted Label: S0008_F_25 Actual Label: S0008_F_25\n",
      "Data 10 Predicted Label: S0015_M_26 Actual Label: S0006_F_10\n",
      "Data 11 Predicted Label: S0008_F_25 Actual Label: S0006_F_10\n",
      "Data 12 Predicted Label: S0004_M_16 Actual Label: S0021_M_25\n",
      "Data 13 Predicted Label: S0018_F_43 Actual Label: S0018_F_43\n",
      "Data 14 Predicted Label: S0015_M_26 Actual Label: S0015_M_26\n",
      "Data 15 Predicted Label: S0006_F_10 Actual Label: S0005_M_11\n",
      "Data 16 Predicted Label: S0001_F_30 Actual Label: S0001_F_30\n",
      "Data 17 Predicted Label: S0015_M_26 Actual Label: S0015_M_26\n",
      "Data 18 Predicted Label: S0004_M_16 Actual Label: S0004_M_16\n",
      "Data 19 Predicted Label: S0003_M_32 Actual Label: S0005_M_11\n",
      "Data 20 Predicted Label: S0008_F_25 Actual Label: S0008_F_25\n",
      "Data 21 Predicted Label: S0004_M_16 Actual Label: S0004_M_16\n",
      "Data 22 Predicted Label: S0018_F_43 Actual Label: S0019_F_63\n",
      "Data 23 Predicted Label: S0012_M_54 Actual Label: S0012_M_54\n",
      "Data 24 Predicted Label: S0001_F_30 Actual Label: S0001_F_30\n",
      "Data 25 Predicted Label: S0012_M_54 Actual Label: S0013_M_34\n",
      "Data 26 Predicted Label: S0006_F_10 Actual Label: S0020_M_69\n",
      "Data 27 Predicted Label: S0014_M_54 Actual Label: S0019_F_63\n",
      "Data 28 Predicted Label: S0006_F_10 Actual Label: S0006_F_10\n",
      "Data 29 Predicted Label: S0018_F_43 Actual Label: S0018_F_43\n",
      "Data 30 Predicted Label: S0019_F_63 Actual Label: S0009_M_22\n",
      "Data 31 Predicted Label: S0018_F_43 Actual Label: S0019_F_63\n",
      "Data 32 Predicted Label: S0004_M_16 Actual Label: S0004_M_16\n",
      "Data 33 Predicted Label: S0012_M_54 Actual Label: S0013_M_34\n",
      "Data 34 Predicted Label: S0019_F_63 Actual Label: S0002_M_24\n",
      "Data 35 Predicted Label: S0007_F_23 Actual Label: S0020_M_69\n",
      "Data 36 Predicted Label: S0006_F_10 Actual Label: S0014_M_54\n",
      "Data 37 Predicted Label: S0019_F_63 Actual Label: S0017_F_60\n",
      "Data 38 Predicted Label: S0012_M_54 Actual Label: S0013_M_34\n",
      "Data 39 Predicted Label: S0007_F_23 Actual Label: S0007_F_23\n",
      "Data 40 Predicted Label: S0009_M_22 Actual Label: S0009_M_22\n",
      "Data 41 Predicted Label: S0020_M_69 Actual Label: S0002_M_24\n",
      "Data 42 Predicted Label: S0004_M_16 Actual Label: S0019_F_63\n",
      "Data 43 Predicted Label: S0018_F_43 Actual Label: S0001_F_30\n",
      "Data 44 Predicted Label: S0003_M_32 Actual Label: S0004_M_16\n",
      "Data 45 Predicted Label: S0009_M_22 Actual Label: S0009_M_22\n",
      "Data 46 Predicted Label: S0020_M_69 Actual Label: S0018_F_43\n",
      "Data 47 Predicted Label: S0012_M_54 Actual Label: S0012_M_54\n",
      "Data 48 Predicted Label: S0018_F_43 Actual Label: S0013_M_34\n",
      "Data 49 Predicted Label: S0017_F_60 Actual Label: S0011_M_23\n",
      "Data 50 Predicted Label: S0017_F_60 Actual Label: S0017_F_60\n",
      "Data 51 Predicted Label: S0018_F_43 Actual Label: S0018_F_43\n",
      "Data 52 Predicted Label: S0005_M_11 Actual Label: S0004_M_16\n",
      "Data 53 Predicted Label: S0009_M_22 Actual Label: S0009_M_22\n",
      "Data 54 Predicted Label: S0014_M_54 Actual Label: S0013_M_34\n",
      "Data 55 Predicted Label: S0008_F_25 Actual Label: S0011_M_23\n",
      "Data 56 Predicted Label: S0005_M_11 Actual Label: S0004_M_16\n",
      "Data 57 Predicted Label: S0009_M_22 Actual Label: S0008_F_25\n",
      "Data 58 Predicted Label: S0017_F_60 Actual Label: S0017_F_60\n",
      "Data 59 Predicted Label: S0012_M_54 Actual Label: S0017_F_60\n",
      "Data 60 Predicted Label: S0018_F_43 Actual Label: S0018_F_43\n",
      "Data 61 Predicted Label: S0009_M_22 Actual Label: S0009_M_22\n",
      "Data 62 Predicted Label: S0012_M_54 Actual Label: S0012_M_54\n",
      "Data 63 Predicted Label: S0008_F_25 Actual Label: S0008_F_25\n",
      "Data 64 Predicted Label: S0004_M_16 Actual Label: S0014_M_54\n",
      "Data 65 Predicted Label: S0018_F_43 Actual Label: S0018_F_43\n",
      "Data 66 Predicted Label: S0013_M_34 Actual Label: S0013_M_34\n",
      "Data 67 Predicted Label: S0009_M_22 Actual Label: S0011_M_23\n",
      "Accuracy: 0.43283582089552236\n"
     ]
    }
   ],
   "source": [
    "\n",
    "\n",
    "model = pickle.load(open(os.path.join(model_path), 'rb'))\n",
    "\n",
    "predicted_labels = knn.predict(x_test, y_test, model=model)\n",
    "\n",
    "cv2.destroyAllWindows()"
   ]
  },
  {
   "cell_type": "code",
   "execution_count": 31,
   "metadata": {},
   "outputs": [
    {
     "name": "stdout",
     "output_type": "stream",
     "text": [
      "Peak accuracy: 0.7014925373134329\n"
     ]
    }
   ],
   "source": [
    "i = 0\n",
    "peak_accuracy = 0\n",
    "while i < 100000:\n",
    "    i += 1\n",
    "\n",
    "    x_train, x_test, y_train, y_test = model_selection.train_test_split(\n",
    "        features, labels, test_size=0.2\n",
    "    )\n",
    "\n",
    "    model = knn.train(\n",
    "        x_train,\n",
    "        y_train,\n",
    "        n_neighbors=2,\n",
    "    )\n",
    "\n",
    "    predicted_labels, accuracy = knn.predict(x_test, y_test, model=model)\n",
    "\n",
    "    if (accuracy > peak_accuracy):\n",
    "        peak_accuracy = accuracy\n",
    "\n",
    "    if (accuracy > 0.75):\n",
    "        print('Iteration:', i)\n",
    "        print('Accuracy:', accuracy)\n",
    "        break\n",
    "\n",
    "print('Peak accuracy:', peak_accuracy)"
   ]
  }
 ],
 "metadata": {
  "kernelspec": {
   "display_name": "Python 3",
   "language": "python",
   "name": "python3"
  },
  "language_info": {
   "codemirror_mode": {
    "name": "ipython",
    "version": 3
   },
   "file_extension": ".py",
   "mimetype": "text/x-python",
   "name": "python",
   "nbconvert_exporter": "python",
   "pygments_lexer": "ipython3",
   "version": "3.11.7"
  }
 },
 "nbformat": 4,
 "nbformat_minor": 2
}
