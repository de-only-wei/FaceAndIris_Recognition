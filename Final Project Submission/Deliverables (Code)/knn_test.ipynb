{
 "cells": [
  {
   "cell_type": "code",
   "execution_count": 3,
   "metadata": {},
   "outputs": [],
   "source": [
    "import numpy\n",
    "import cv2\n",
    "import os.path\n",
    "import pickle\n",
    "import sklearn.model_selection as model_selection"
   ]
  },
  {
   "cell_type": "code",
   "execution_count": 4,
   "metadata": {},
   "outputs": [],
   "source": [
    "%reload_ext autoreload\n",
    "%autoreload 2\n",
    "import knn_utilities as knn"
   ]
  },
  {
   "cell_type": "markdown",
   "metadata": {},
   "source": [
    "#### Run for Face Mode"
   ]
  },
  {
   "cell_type": "code",
   "execution_count": 71,
   "metadata": {},
   "outputs": [],
   "source": [
    "features = numpy.load(os.path.join('Face_Output', 'features.npy'))\n",
    "labels = numpy.load(os.path.join('Face_Output', 'feature_labels.npy'))\n",
    "\n",
    "model_path = 'face_knn_model.clf'"
   ]
  },
  {
   "cell_type": "markdown",
   "metadata": {},
   "source": [
    "Run for Left Iris Mode"
   ]
  },
  {
   "cell_type": "code",
   "execution_count": 62,
   "metadata": {},
   "outputs": [],
   "source": [
    "features = numpy.load(os.path.join('Iris_Output', 'features_L.npy'))\n",
    "labels = numpy.load(os.path.join('Iris_Output', 'feature_labels_L.npy'))\n",
    "\n",
    "model_path = 'iris_knn_model_L.clf'"
   ]
  },
  {
   "cell_type": "markdown",
   "metadata": {},
   "source": [
    "Run for Right Iris Mode"
   ]
  },
  {
   "cell_type": "code",
   "execution_count": 67,
   "metadata": {},
   "outputs": [],
   "source": [
    "features = numpy.load(os.path.join('Iris_Output', 'features_R.npy'))\n",
    "labels = numpy.load(os.path.join('Iris_Output', 'feature_labels_R.npy'))\n",
    "\n",
    "model_path = 'iris_knn_model_R.clf'"
   ]
  },
  {
   "cell_type": "markdown",
   "metadata": {},
   "source": [
    "#### STEP 1: Train the KNN classifier and save it to disk\n"
   ]
  },
  {
   "cell_type": "code",
   "execution_count": 51,
   "metadata": {},
   "outputs": [
    {
     "name": "stdout",
     "output_type": "stream",
     "text": [
      "Training KNN classifier...\n",
      "Training complete!\n"
     ]
    }
   ],
   "source": [
    "# Once the model is trained and saved, you can skip this step next time.\n",
    "print(\"Training KNN classifier...\")\n",
    "\n",
    "x_train, x_test, y_train, y_test = model_selection.train_test_split(\n",
    "    features, labels, test_size=0.2\n",
    ")\n",
    "\n",
    "model = knn.train(\n",
    "    x_train, \n",
    "    y_train,\n",
    "    n_neighbors=2,\n",
    ")\n",
    "\n",
    "pickle.dump(model, open(os.path.join(model_path), 'wb'))\n",
    "\n",
    "print(\"Training complete!\")"
   ]
  },
  {
   "cell_type": "markdown",
   "metadata": {},
   "source": [
    "#### STEP 2: Using the trained classifier, make predictions for unknown images"
   ]
  },
  {
   "cell_type": "code",
   "execution_count": 36,
   "metadata": {},
   "outputs": [
    {
     "name": "stdout",
     "output_type": "stream",
     "text": [
      "Accuracy: 0.40298507462686567\n"
     ]
    }
   ],
   "source": [
    "model = pickle.load(open(os.path.join(model_path), 'rb'))\n",
    "\n",
    "predicted_labels, accuracy = knn.predict(x_test, y_test, model=model)\n",
    "\n",
    "print('Accuracy:', accuracy)\n",
    "\n",
    "cv2.destroyAllWindows()"
   ]
  },
  {
   "cell_type": "code",
   "execution_count": 72,
   "metadata": {},
   "outputs": [
    {
     "name": "stdout",
     "output_type": "stream",
     "text": [
      "Completed 100000 tests\n",
      "Face accuracy: 0.7313432835820896\n"
     ]
    }
   ],
   "source": [
    "i = 0\n",
    "peak_accuracy = 0\n",
    "while i < 100000:\n",
    "    i += 1\n",
    "\n",
    "    x_train, x_test, y_train, y_test = model_selection.train_test_split(\n",
    "        features, labels, test_size=0.2\n",
    "    )\n",
    "\n",
    "    model = knn.train(\n",
    "        x_train,\n",
    "        y_train,\n",
    "        n_neighbors=2,\n",
    "    )\n",
    "\n",
    "    predicted_labels, accuracy = knn.predict(x_test, y_test, model=model)\n",
    "\n",
    "    if (accuracy > peak_accuracy):\n",
    "        peak_accuracy = accuracy\n",
    "\n",
    "print('Completed ' + str(i) + ' tests')\n",
    "print('Face accuracy:', peak_accuracy)\n",
    "\n",
    "score_1 = peak_accuracy"
   ]
  },
  {
   "cell_type": "code",
   "execution_count": 63,
   "metadata": {},
   "outputs": [
    {
     "name": "stdout",
     "output_type": "stream",
     "text": [
      "Completed 100000 tests\n",
      "Face accuracy: 0.9593023255813954\n"
     ]
    }
   ],
   "source": [
    "i = 0\n",
    "peak_accuracy = 0\n",
    "while i < 100000:\n",
    "    i += 1\n",
    "\n",
    "    x_train, x_test, y_train, y_test = model_selection.train_test_split(\n",
    "        features, labels, test_size=0.2\n",
    "    )\n",
    "\n",
    "    model = knn.train(\n",
    "        x_train,\n",
    "        y_train,\n",
    "        n_neighbors=2,\n",
    "    )\n",
    "\n",
    "    predicted_labels, accuracy = knn.predict(x_test, y_test, model=model)\n",
    "\n",
    "    if (accuracy > peak_accuracy):\n",
    "        peak_accuracy = accuracy\n",
    "\n",
    "print('Completed ' + str(i) + ' tests')\n",
    "print('Face accuracy:', peak_accuracy)\n",
    "\n",
    "score_2 = peak_accuracy"
   ]
  },
  {
   "cell_type": "code",
   "execution_count": 69,
   "metadata": {},
   "outputs": [],
   "source": [
    "def calculate_score(score_1, score_2, weight_1, weight_2):\n",
    "    weighted_score_1 = score_1 * weight_1\n",
    "    weighted_score_2 = score_2 * weight_2\n",
    "    score_weighted = weighted_score_1 + weighted_score_2\n",
    "    return score_weighted"
   ]
  },
  {
   "cell_type": "markdown",
   "metadata": {},
   "source": [
    "### Iris Score"
   ]
  },
  {
   "cell_type": "code",
   "execution_count": 70,
   "metadata": {},
   "outputs": [
    {
     "name": "stdout",
     "output_type": "stream",
     "text": [
      "KNN scores: \n",
      "scoresL: 0.967032967032967, scoresR: 0.9593023255813954\n",
      "weights: 0.5, 0.5\n",
      "weighted score of Irises: 96.31676463071813%\n"
     ]
    }
   ],
   "source": [
    "weight_1 = 0.5\n",
    "weight_2 = 0.5\n",
    "\n",
    "final_score = calculate_score(score_1, score_2, weight_1, weight_2) * 100\n",
    "print(\"KNN scores: \")\n",
    "print(\"scoresL: \" + str(score_1) + \", \" + \"scoresR: \" + str(score_2))\n",
    "print(\"weights: \" + str(weight_1) + \", \" + str(weight_2))\n",
    "print(\"weighted score of Irises: \" + str(final_score) +\"%\")"
   ]
  },
  {
   "cell_type": "code",
   "execution_count": 74,
   "metadata": {},
   "outputs": [
    {
     "name": "stdout",
     "output_type": "stream",
     "text": [
      "KNN scores: \n",
      "score of Faces: 73.13432835820896%\n"
     ]
    }
   ],
   "source": [
    "\n",
    "print(\"KNN scores: \")\n",
    "print(\"score of Faces: \" + str(score_1*100) +\"%\")\n"
   ]
  },
  {
   "cell_type": "code",
   "execution_count": null,
   "metadata": {},
   "outputs": [],
   "source": [
    "weight_1 = 0.5\n",
    "weight_2 = 0.5\n",
    "\n",
    "final_score = calculate_score(score_1, score_2, weight_1, weight_2) * 100\n",
    "print(\"Scores: \")\n",
    "print(\"scores_1: \" + str(score_1) + \", \" + \"scores_2: \" + str(score_2))\n",
    "print(\"weights: \" + str(weight_1) + \", \" + str(weight_2))\n",
    "print(\"weighted Scores: \" + str(final_score) +\"%\")"
   ]
  }
 ],
 "metadata": {
  "kernelspec": {
   "display_name": "Python 3",
   "language": "python",
   "name": "python3"
  },
  "language_info": {
   "codemirror_mode": {
    "name": "ipython",
    "version": 3
   },
   "file_extension": ".py",
   "mimetype": "text/x-python",
   "name": "python",
   "nbconvert_exporter": "python",
   "pygments_lexer": "ipython3",
   "version": "3.11.7"
  }
 },
 "nbformat": 4,
 "nbformat_minor": 2
}
