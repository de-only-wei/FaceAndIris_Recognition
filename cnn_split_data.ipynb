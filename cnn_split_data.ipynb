{
 "cells": [
  {
   "cell_type": "code",
   "execution_count": 5,
   "metadata": {},
   "outputs": [],
   "source": [
    "import os\n",
    "import cv2\n",
    "import numpy as np\n",
    "import shutil\n",
    "import random"
   ]
  },
  {
   "cell_type": "code",
   "execution_count": 6,
   "metadata": {},
   "outputs": [],
   "source": [
    "def split_dataset(input_folder, output_folder='CNN_Train', train_ratio=0.8):\n",
    "    # Define output folder paths\n",
    "    output_train_folder = os.path.join(output_folder, 'Train')\n",
    "    output_test_folder = os.path.join(output_folder, 'Test')\n",
    "\n",
    "    print(\"Input folder:\", input_folder)\n",
    "    print(\"Output folder:\", output_folder)\n",
    "    print(\"Train folder:\", output_train_folder)\n",
    "    print(\"Test folder:\", output_test_folder)\n",
    "\n",
    "    # Create Train and Test folders if they don't exist\n",
    "    if not os.path.exists(output_train_folder):\n",
    "        os.makedirs(output_train_folder)\n",
    "    if not os.path.exists(output_test_folder):\n",
    "        os.makedirs(output_test_folder)\n",
    "\n",
    "    # Get list of files\n",
    "    input_train_folder = os.path.join(input_folder, 'Face_Cropped_Split/Train')\n",
    "    input_test_folder = os.path.join(input_folder, 'Face_Cropped_Split/Test')\n",
    "\n",
    "    print(\"Input train folder:\", input_train_folder)\n",
    "    print(\"Input test folder:\", input_test_folder)\n",
    "\n",
    "    train_files = os.listdir(input_train_folder)\n",
    "    test_files = os.listdir(input_test_folder)\n",
    "\n",
    "    print(\"Train files:\", train_files)\n",
    "    print(\"Test files:\", test_files)\n",
    "\n",
    "    # Shuffle the files\n",
    "    random.shuffle(train_files)\n",
    "    random.shuffle(test_files)\n",
    "\n",
    "    # Calculate split indices\n",
    "    num_train = int(len(train_files) * train_ratio)\n",
    "\n",
    "    # Copy files to train and test folders and extract labels\n",
    "    for file in train_files[:num_train]:\n",
    "        src = os.path.join(input_train_folder, file)\n",
    "        dst = os.path.join(output_train_folder, file)\n",
    "        shutil.copy(src, dst)\n",
    "\n",
    "        # Create label image\n",
    "        label = int(file[:5])\n",
    "        # Example: 100x100 grayscale image\n",
    "        label_image = np.full((100, 100), label, dtype=np.uint8)\n",
    "        cv2.imwrite(os.path.join(output_train_folder,\n",
    "                    file[:-4] + '_label.jpg'), label_image)\n",
    "\n",
    "    for file in test_files[num_train:]:\n",
    "        src = os.path.join(input_test_folder, file)\n",
    "        dst = os.path.join(output_test_folder, file)\n",
    "        shutil.copy(src, dst)\n",
    "\n",
    "        # Create label image\n",
    "        label = int(file[:5])\n",
    "        # Example: 100x100 grayscale image\n",
    "        label_image = np.full((100, 100), label, dtype=np.uint8)\n",
    "        cv2.imwrite(os.path.join(output_test_folder,\n",
    "                    file[:-4] + '_label.jpg'), label_image)\n",
    "\n",
    "    # Return the paths to the train and test folders\n",
    "    return output_train_folder, output_test_folder"
   ]
  }
 ],
 "metadata": {
  "kernelspec": {
   "display_name": "Python 3",
   "language": "python",
   "name": "python3"
  },
  "language_info": {
   "codemirror_mode": {
    "name": "ipython",
    "version": 3
   },
   "file_extension": ".py",
   "mimetype": "text/x-python",
   "name": "python",
   "nbconvert_exporter": "python",
   "pygments_lexer": "ipython3",
   "version": "3.11.4"
  }
 },
 "nbformat": 4,
 "nbformat_minor": 2
}
