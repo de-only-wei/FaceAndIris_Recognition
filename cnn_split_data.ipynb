{
 "cells": [
  {
   "cell_type": "code",
   "execution_count": 9,
   "metadata": {},
   "outputs": [],
   "source": [
    "import os\n",
    "import shutil\n",
    "import random\n",
    "import numpy as np\n",
    "import cv2\n",
    "import re"
   ]
  },
  {
   "cell_type": "code",
   "execution_count": 10,
   "metadata": {},
   "outputs": [
    {
     "ename": "ValueError",
     "evalue": "setting an array element with a sequence. The requested array has an inhomogeneous shape after 1 dimensions. The detected shape was (304,) + inhomogeneous part.",
     "output_type": "error",
     "traceback": [
      "\u001b[1;31m---------------------------------------------------------------------------\u001b[0m",
      "\u001b[1;31mValueError\u001b[0m                                Traceback (most recent call last)",
      "Cell \u001b[1;32mIn[10], line 65\u001b[0m\n\u001b[0;32m     62\u001b[0m output_folder \u001b[38;5;241m=\u001b[39m \u001b[38;5;124m\"\u001b[39m\u001b[38;5;124mCNN_Train\u001b[39m\u001b[38;5;124m\"\u001b[39m\n\u001b[0;32m     64\u001b[0m \u001b[38;5;66;03m# Split the dataset and get X_train, y_train, X_test, and y_test\u001b[39;00m\n\u001b[1;32m---> 65\u001b[0m X_train, y_train, X_test, y_test \u001b[38;5;241m=\u001b[39m \u001b[43msplit_dataset\u001b[49m\u001b[43m(\u001b[49m\u001b[43minput_folder\u001b[49m\u001b[43m,\u001b[49m\u001b[43m \u001b[49m\u001b[43moutput_folder\u001b[49m\u001b[43m)\u001b[49m\n\u001b[0;32m     67\u001b[0m \u001b[38;5;28mprint\u001b[39m(\u001b[38;5;124m\"\u001b[39m\u001b[38;5;124mDataset split successfully!\u001b[39m\u001b[38;5;124m\"\u001b[39m)\n",
      "Cell \u001b[1;32mIn[10], line 39\u001b[0m, in \u001b[0;36msplit_dataset\u001b[1;34m(input_folder, output_folder, train_ratio)\u001b[0m\n\u001b[0;32m     36\u001b[0m     shutil\u001b[38;5;241m.\u001b[39mcopy(src, dst)\n\u001b[0;32m     38\u001b[0m \u001b[38;5;66;03m# Get image filenames and labels for train and test sets\u001b[39;00m\n\u001b[1;32m---> 39\u001b[0m X_train, y_train \u001b[38;5;241m=\u001b[39m \u001b[43mload_images\u001b[49m\u001b[43m(\u001b[49m\u001b[43mtrain_folder\u001b[49m\u001b[43m)\u001b[49m\n\u001b[0;32m     40\u001b[0m X_test, y_test \u001b[38;5;241m=\u001b[39m load_images(test_folder)\n\u001b[0;32m     42\u001b[0m \u001b[38;5;28;01mreturn\u001b[39;00m X_train, y_train, X_test, y_test\n",
      "Cell \u001b[1;32mIn[10], line 57\u001b[0m, in \u001b[0;36mload_images\u001b[1;34m(directory)\u001b[0m\n\u001b[0;32m     55\u001b[0m             label \u001b[38;5;241m=\u001b[39m re\u001b[38;5;241m.\u001b[39msearch(\u001b[38;5;124mr\u001b[39m\u001b[38;5;124m'\u001b[39m\u001b[38;5;124m\\\u001b[39m\u001b[38;5;124md+\u001b[39m\u001b[38;5;124m'\u001b[39m, filename)\u001b[38;5;241m.\u001b[39mgroup()\n\u001b[0;32m     56\u001b[0m             labels\u001b[38;5;241m.\u001b[39mappend(\u001b[38;5;28mint\u001b[39m(label))\n\u001b[1;32m---> 57\u001b[0m \u001b[38;5;28;01mreturn\u001b[39;00m np\u001b[38;5;241m.\u001b[39marray(images), np\u001b[38;5;241m.\u001b[39marray(labels)\n",
      "\u001b[1;31mValueError\u001b[0m: setting an array element with a sequence. The requested array has an inhomogeneous shape after 1 dimensions. The detected shape was (304,) + inhomogeneous part."
     ]
    }
   ],
   "source": [
    "\n",
    "def split_dataset(input_folder, output_folder, train_ratio=0.8):\n",
    "    # Clear output folders if they exist\n",
    "    train_folder = os.path.join(output_folder, 'Train')\n",
    "    test_folder = os.path.join(output_folder, 'Test')\n",
    "    if os.path.exists(train_folder):\n",
    "        shutil.rmtree(train_folder)\n",
    "    if os.path.exists(test_folder):\n",
    "        shutil.rmtree(test_folder)\n",
    "\n",
    "    # Create output folders\n",
    "    os.makedirs(train_folder)\n",
    "    os.makedirs(test_folder)\n",
    "\n",
    "    # Get list of files\n",
    "    train_files = os.listdir(os.path.join(\n",
    "        input_folder, 'Face_Cropped_Split/Train'))\n",
    "    test_files = os.listdir(os.path.join(\n",
    "        input_folder, 'Face_Cropped_Split/Test'))\n",
    "\n",
    "    # Shuffle the files\n",
    "    random.shuffle(train_files)\n",
    "    random.shuffle(test_files)\n",
    "\n",
    "    # Calculate split indices\n",
    "    num_train = int(len(train_files) * train_ratio)\n",
    "\n",
    "    # Copy files to train and test folders\n",
    "    for file in train_files[:num_train]:\n",
    "        src = os.path.join(input_folder, 'Face_Cropped_Split/Train', file)\n",
    "        dst = os.path.join(train_folder, file)\n",
    "        shutil.copy(src, dst)\n",
    "\n",
    "    for file in test_files[num_train:]:\n",
    "        src = os.path.join(input_folder, 'Face_Cropped_Split/Test', file)\n",
    "        dst = os.path.join(test_folder, file)\n",
    "        shutil.copy(src, dst)\n",
    "\n",
    "    # Get image filenames and labels for train and test sets\n",
    "    X_train, y_train = load_images(train_folder)\n",
    "    X_test, y_test = load_images(test_folder)\n",
    "\n",
    "    return X_train, y_train, X_test, y_test\n",
    "\n",
    "\n",
    "def load_images(directory):\n",
    "    images = []\n",
    "    labels = []\n",
    "    for filename in os.listdir(directory):\n",
    "        if filename.endswith('.jpg'):\n",
    "            img = cv2.imread(os.path.join(\n",
    "                directory, filename), cv2.IMREAD_GRAYSCALE)\n",
    "            if img is not None:\n",
    "                images.append(img)\n",
    "                # Extract label from the first 5 characters of the filename\n",
    "                label = re.search(r'\\d+', filename).group()\n",
    "                labels.append(int(label))\n",
    "    return np.array(images), np.array(labels)\n",
    "\n",
    "\n",
    "# Input and output folders\n",
    "input_folder = \"Face_Output\"\n",
    "output_folder = \"CNN_Train\"\n",
    "\n",
    "# Split the dataset and get X_train, y_train, X_test, and y_test\n",
    "X_train, y_train, X_test, y_test = split_dataset(input_folder, output_folder)\n",
    "\n",
    "print(\"Dataset split successfully!\")"
   ]
  }
 ],
 "metadata": {
  "kernelspec": {
   "display_name": "Python 3",
   "language": "python",
   "name": "python3"
  },
  "language_info": {
   "codemirror_mode": {
    "name": "ipython",
    "version": 3
   },
   "file_extension": ".py",
   "mimetype": "text/x-python",
   "name": "python",
   "nbconvert_exporter": "python",
   "pygments_lexer": "ipython3",
   "version": "3.11.4"
  }
 },
 "nbformat": 4,
 "nbformat_minor": 2
}
