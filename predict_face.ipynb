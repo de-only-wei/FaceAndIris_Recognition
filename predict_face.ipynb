{
 "cells": [
  {
   "cell_type": "code",
   "execution_count": 3,
   "metadata": {},
   "outputs": [
    {
     "ename": "FileNotFoundError",
     "evalue": "[WinError 3] The system cannot find the path specified: 'Face_Cropped_Split\\\\Train'",
     "output_type": "error",
     "traceback": [
      "\u001b[1;31m---------------------------------------------------------------------------\u001b[0m",
      "\u001b[1;31mFileNotFoundError\u001b[0m                         Traceback (most recent call last)",
      "Cell \u001b[1;32mIn[3], line 23\u001b[0m\n\u001b[0;32m     21\u001b[0m \u001b[38;5;28;01mfor\u001b[39;00m subdir \u001b[38;5;129;01min\u001b[39;00m subdirs:\n\u001b[0;32m     22\u001b[0m     subdir_path \u001b[38;5;241m=\u001b[39m os\u001b[38;5;241m.\u001b[39mpath\u001b[38;5;241m.\u001b[39mjoin(main_dir, subdir)\n\u001b[1;32m---> 23\u001b[0m     image_filenames \u001b[38;5;241m=\u001b[39m \u001b[43mos\u001b[49m\u001b[38;5;241;43m.\u001b[39;49m\u001b[43mlistdir\u001b[49m\u001b[43m(\u001b[49m\u001b[43msubdir_path\u001b[49m\u001b[43m)\u001b[49m\n\u001b[0;32m     25\u001b[0m     \u001b[38;5;28;01mfor\u001b[39;00m filename \u001b[38;5;129;01min\u001b[39;00m image_filenames:\n\u001b[0;32m     26\u001b[0m         \u001b[38;5;66;03m# Load image\u001b[39;00m\n\u001b[0;32m     27\u001b[0m         image_path \u001b[38;5;241m=\u001b[39m os\u001b[38;5;241m.\u001b[39mpath\u001b[38;5;241m.\u001b[39mjoin(subdir_path, filename)\n",
      "\u001b[1;31mFileNotFoundError\u001b[0m: [WinError 3] The system cannot find the path specified: 'Face_Cropped_Split\\\\Train'"
     ]
    }
   ],
   "source": [
    "from keras.models import load_model\n",
    "import cv2\n",
    "import numpy as np\n",
    "import os\n",
    "\n",
    "# Disable scientific notation for clarity\n",
    "np.set_printoptions(suppress=True)\n",
    "\n",
    "# Load the model\n",
    "model = load_model(\"Keras model/keras_model.h5\", compile=False)\n",
    "\n",
    "# Load the labels\n",
    "class_names = open(\"Keras model/labels.txt\", \"r\").readlines()\n",
    "\n",
    "# Directory containing images\n",
    "main_dir = \"Face_Cropped_Split\"\n",
    "\n",
    "# List of subdirectories (Train and Test)\n",
    "subdirs = [\"Train\", \"Test\"]\n",
    "\n",
    "for subdir in subdirs:\n",
    "    subdir_path = os.path.join(main_dir, subdir)\n",
    "    image_filenames = os.listdir(subdir_path)\n",
    "\n",
    "    for filename in image_filenames:\n",
    "        # Load image\n",
    "        image_path = os.path.join(subdir_path, filename)\n",
    "        image = cv2.imread(image_path)\n",
    "\n",
    "        # Resize the image to (224, 224) pixels\n",
    "        image = cv2.resize(image, (224, 224), interpolation=cv2.INTER_AREA)\n",
    "\n",
    "        # Show the image in a window\n",
    "        cv2.imshow(\"Image\", image)\n",
    "        cv2.waitKey(0)\n",
    "\n",
    "        # Make the image a numpy array and reshape it to the model's input shape\n",
    "        image = np.asarray(image, dtype=np.float32).reshape(1, 224, 224, 3)\n",
    "\n",
    "        # Normalize the image array\n",
    "        image = (image / 127.5) - 1\n",
    "\n",
    "        # Predicts the model\n",
    "        prediction = model.predict(image)\n",
    "        index = np.argmax(prediction)\n",
    "        class_name = class_names[index]\n",
    "        confidence_score = prediction[0][index]\n",
    "\n",
    "        # Print prediction and confidence score\n",
    "        print(\"Image:\", filename)\n",
    "        print(\"Class:\", class_name[2:])\n",
    "        print(\"Confidence Score:\", str(\n",
    "            np.round(confidence_score * 100))[:-2], \"%\")\n",
    "        print(\"----------------------\")\n",
    "\n",
    "cv2.destroyAllWindows()"
   ]
  }
 ],
 "metadata": {
  "kernelspec": {
   "display_name": "Python 3",
   "language": "python",
   "name": "python3"
  },
  "language_info": {
   "codemirror_mode": {
    "name": "ipython",
    "version": 3
   },
   "file_extension": ".py",
   "mimetype": "text/x-python",
   "name": "python",
   "nbconvert_exporter": "python",
   "pygments_lexer": "ipython3",
   "version": "3.11.4"
  }
 },
 "nbformat": 4,
 "nbformat_minor": 2
}
