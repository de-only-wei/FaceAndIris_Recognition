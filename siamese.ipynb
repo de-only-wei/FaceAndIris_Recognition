{
 "cells": [
  {
   "cell_type": "markdown",
   "metadata": {},
   "source": [
    "### All Imports"
   ]
  },
  {
   "cell_type": "code",
   "execution_count": null,
   "metadata": {},
   "outputs": [],
   "source": [
    "import numpy as np\n",
    "import cv2\n",
    "import os.path\n",
    "import pickle\n",
    "import sklearn.model_selection as model_selection"
   ]
  },
  {
   "cell_type": "code",
   "execution_count": null,
   "metadata": {},
   "outputs": [],
   "source": [
    "%reload_ext autoreload\n",
    "%autoreload 2\n",
    "import siamese_face as face\n",
    "import siamese_iris as iris"
   ]
  },
  {
   "cell_type": "markdown",
   "metadata": {},
   "source": [
    "### Run for Face Mode"
   ]
  },
  {
   "cell_type": "code",
   "execution_count": null,
   "metadata": {},
   "outputs": [],
   "source": [
    "images = pickle.load(\n",
    "    open(os.path.join('Face_Output', 'cropped_faces.pickle'), 'rb'))\n",
    "labels = np.load(os.path.join('Face_Output', 'cropped_labels.npy'))\n",
    "\n",
    "x_train, x_test, y_train, y_test = model_selection.train_test_split(\n",
    "    images, labels, test_size=0.2\n",
    ")\n",
    "\n",
    "model_path = 'face_siamese_model.clf'"
   ]
  },
  {
   "cell_type": "markdown",
   "metadata": {},
   "source": [
    "### Run for Left Iris Mode"
   ]
  },
  {
   "cell_type": "code",
   "execution_count": null,
   "metadata": {},
   "outputs": [],
   "source": [
    "images = pickle.load(\n",
    "    open(os.path.join('Iris_Output', 'processed_iries_L.pickles'), 'rb')\n",
    ")\n",
    "labels = np.load(os.path.join('Iris_Output', 'processed_labels_L.npy'))\n",
    "\n",
    "x_train, x_test, y_train, y_test = model_selection.train_test_split(\n",
    "    images, labels, test_size=0.2\n",
    ")\n",
    "\n",
    "model_path = 'iris_siamese_model_L.clf'"
   ]
  },
  {
   "cell_type": "markdown",
   "metadata": {},
   "source": [
    "### Run for Right Iris Mode"
   ]
  },
  {
   "cell_type": "code",
   "execution_count": null,
   "metadata": {},
   "outputs": [],
   "source": [
    "images = pickle.load(\n",
    "    open(os.path.join('Iris_Output', 'processed_iries_L.pickles'), 'rb')\n",
    ")\n",
    "labels = np.load(os.path.join('Iris_Output', 'processed_labels_R.npy'))\n",
    "\n",
    "x_train, x_test, y_train, y_test = model_selection.train_test_split(\n",
    "    images, labels, test_size=0.2\n",
    ")\n",
    "\n",
    "model_path = 'iris_siamese_model_R.clf'"
   ]
  },
  {
   "cell_type": "markdown",
   "metadata": {},
   "source": [
    "### Face Section"
   ]
  },
  {
   "cell_type": "code",
   "execution_count": null,
   "metadata": {},
   "outputs": [],
   "source": [
    "# Create Siamese network branches\n",
    "base_network = face.create_siamese_network(\n",
    "    face.input_shape, face.embedding_dim)\n",
    "\n",
    "input_a = face.layers.Input(shape=face.input_shape)\n",
    "input_b = face.layers.Input(shape=face.input_shape)\n",
    "\n",
    "processed_a = base_network(input_a)\n",
    "processed_b = base_network(input_b)\n",
    "\n",
    "# Calculate L1 distance between the embeddings\n",
    "distance = face.tf.abs(processed_a - processed_b)\n",
    "\n",
    "# Output layer\n",
    "output = face.layers.Dense(1, activation='sigmoid')(distance)\n",
    "\n",
    "# Create Siamese network model\n",
    "model = face.models.Model([input_a, input_b], output)\n",
    "\n",
    "# Compile the model\n",
    "model.compile(optimizer='adam', loss='binary_crossentropy',\n",
    "              metrics=['accuracy'])\n",
    "\n",
    "# Train the model\n",
    "history = model.fit(\n",
    "    face.generate_batch(x_train, y_train, face.batch_size),\n",
    "    steps_per_epoch=len(y_train) // face.batch_size,\n",
    "    epochs=face.epochs,\n",
    "    validation_data=face.generate_batch(x_test, y_test, face.batch_size),\n",
    "    validation_steps=len(y_test) // face.batch_size\n",
    ")\n",
    "\n",
    "# Evaluate the model\n",
    "test_loss, test_accuracy = model.evaluate(\n",
    "    face.generate_batch(x_test, y_test, face.batch_size),\n",
    "    steps=len(y_test) // face.batch_size\n",
    ")\n",
    "\n",
    "print(f\"Test Accuracy: {test_accuracy * 100:.2f}%\")"
   ]
  },
  {
   "cell_type": "markdown",
   "metadata": {},
   "source": [
    "### Iris Section"
   ]
  },
  {
   "cell_type": "code",
   "execution_count": null,
   "metadata": {},
   "outputs": [],
   "source": [
    "# Define constants\n",
    "data_dir = \"Dataset/VISA_Iris/VISA_Iris\"\n",
    "\n",
    "\n",
    "# Load and preprocess dataset\n",
    "class_dirs = os.listdir(data_dir)\n",
    "pairs = []\n",
    "labels = []\n",
    "\n",
    "for class_dir in class_dirs:\n",
    "    left_images = iris.find_images(os.path.join(data_dir, class_dir, \"L\"))\n",
    "    right_images = iris.find_images(os.path.join(data_dir, class_dir, \"R\"))\n",
    "    for left_image in left_images:\n",
    "        for right_image in right_images:\n",
    "            pairs.append((left_image, right_image))\n",
    "            labels.append(1 if class_dir == left_image.split(\"/\")[-2] else 0)\n",
    "\n",
    "# Split dataset into train and test sets\n",
    "x_train, x_test, y_train, y_test = iris.train_test_split(\n",
    "    pairs, labels, test_size=0.2, random_state=42)\n",
    "\n",
    "# Create Siamese network branches\n",
    "base_network = iris.create_siamese_network(\n",
    "    iris.input_shape, iris.embedding_dim)\n",
    "input_a = iris.layers.Input(shape=iris.input_shape)\n",
    "input_b = iris.layers.Input(shape=iris.input_shape)\n",
    "\n",
    "processed_a = base_network(input_a)\n",
    "processed_b = base_network(input_b)\n",
    "\n",
    "# Calculate L1 distance between the embeddings\n",
    "distance = iris.tf.abs(processed_a - processed_b)\n",
    "\n",
    "# Output layer\n",
    "output = iris.layers.Dense(1, activation='sigmoid')(distance)\n",
    "\n",
    "# Create Siamese network model\n",
    "model = iris.models.Model([input_a, input_b], output)\n",
    "\n",
    "# Compile the model\n",
    "model.compile(optimizer='adam', loss='binary_crossentropy',\n",
    "              metrics=['accuracy'])\n",
    "\n",
    "\n",
    "# Train the model\n",
    "history = model.fit(\n",
    "    iris.generate_batch(x_train, y_train, iris.batch_size),\n",
    "    steps_per_epoch=len(y_train) // iris.batch_size,\n",
    "    epochs=iris.epochs,\n",
    "    validation_data=iris.generate_batch(\n",
    "        x_test, y_test, iris.batch_size),\n",
    "    validation_steps=len(y_test) // iris.batch_size\n",
    ")\n",
    "\n",
    "# Evaluate the model\n",
    "test_loss, test_accuracy = model.evaluate(\n",
    "    iris.generate_batch(x_test, y_test, iris.batch_size),\n",
    "    steps=len(y_test) // iris.batch_size\n",
    ")\n",
    "\n",
    "print(f\"Test Accuracy: {test_accuracy * 100:.2f}%\")"
   ]
  }
 ],
 "metadata": {
  "kernelspec": {
   "display_name": "Python 3",
   "language": "python",
   "name": "python3"
  },
  "language_info": {
   "codemirror_mode": {
    "name": "ipython",
    "version": 3
   },
   "file_extension": ".py",
   "mimetype": "text/x-python",
   "name": "python",
   "nbconvert_exporter": "python",
   "pygments_lexer": "ipython3",
   "version": "3.11.4"
  }
 },
 "nbformat": 4,
 "nbformat_minor": 2
}
