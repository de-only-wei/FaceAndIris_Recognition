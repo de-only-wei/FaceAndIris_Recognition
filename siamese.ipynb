{
 "cells": [
  {
   "cell_type": "markdown",
   "metadata": {},
   "source": [
    "### All Imports"
   ]
  },
  {
   "cell_type": "code",
   "execution_count": 6,
   "metadata": {},
   "outputs": [],
   "source": [
    "import numpy as np\n",
    "import cv2\n",
    "import os.path\n",
    "import pickle\n",
    "import sklearn.model_selection as model_selection"
   ]
  },
  {
   "cell_type": "code",
   "execution_count": 7,
   "metadata": {},
   "outputs": [],
   "source": [
    "%reload_ext autoreload\n",
    "%autoreload 2\n",
    "import siamese_face as face\n",
    "import siamese_iris as iris"
   ]
  },
  {
   "cell_type": "markdown",
   "metadata": {},
   "source": [
    "### Run for Face Mode"
   ]
  },
  {
   "cell_type": "code",
   "execution_count": 8,
   "metadata": {},
   "outputs": [],
   "source": [
    "images = pickle.load(\n",
    "    open(os.path.join('Face_Output', 'cropped_faces.pickle'), 'rb'))\n",
    "labels = np.load(os.path.join('Face_Output', 'cropped_labels.npy'))\n",
    "\n",
    "x_train, x_test, y_train, y_test = model_selection.train_test_split(\n",
    "    images, labels, test_size=0.2\n",
    ")\n",
    "\n",
    "model_path = 'face_siamese_model.clf'"
   ]
  },
  {
   "cell_type": "markdown",
   "metadata": {},
   "source": [
    "### Run for Iris Mode"
   ]
  },
  {
   "cell_type": "code",
   "execution_count": null,
   "metadata": {},
   "outputs": [],
   "source": []
  },
  {
   "cell_type": "markdown",
   "metadata": {},
   "source": [
    "### Face Section"
   ]
  },
  {
   "cell_type": "code",
   "execution_count": 9,
   "metadata": {},
   "outputs": [
    {
     "ename": "ValueError",
     "evalue": "could not broadcast input array from shape (48,) into shape (128,128,3)",
     "output_type": "error",
     "traceback": [
      "\u001b[1;31m---------------------------------------------------------------------------\u001b[0m",
      "\u001b[1;31mValueError\u001b[0m                                Traceback (most recent call last)",
      "Cell \u001b[1;32mIn[9], line 25\u001b[0m\n\u001b[0;32m     21\u001b[0m model\u001b[38;5;241m.\u001b[39mcompile(optimizer\u001b[38;5;241m=\u001b[39m\u001b[38;5;124m'\u001b[39m\u001b[38;5;124madam\u001b[39m\u001b[38;5;124m'\u001b[39m, loss\u001b[38;5;241m=\u001b[39m\u001b[38;5;124m'\u001b[39m\u001b[38;5;124mbinary_crossentropy\u001b[39m\u001b[38;5;124m'\u001b[39m,\n\u001b[0;32m     22\u001b[0m               metrics\u001b[38;5;241m=\u001b[39m[\u001b[38;5;124m'\u001b[39m\u001b[38;5;124maccuracy\u001b[39m\u001b[38;5;124m'\u001b[39m])\n\u001b[0;32m     24\u001b[0m \u001b[38;5;66;03m# Train the model\u001b[39;00m\n\u001b[1;32m---> 25\u001b[0m history \u001b[38;5;241m=\u001b[39m \u001b[43mmodel\u001b[49m\u001b[38;5;241;43m.\u001b[39;49m\u001b[43mfit\u001b[49m\u001b[43m(\u001b[49m\n\u001b[0;32m     26\u001b[0m \u001b[43m    \u001b[49m\u001b[43mface\u001b[49m\u001b[38;5;241;43m.\u001b[39;49m\u001b[43mgenerate_batch\u001b[49m\u001b[43m(\u001b[49m\u001b[43mx_train\u001b[49m\u001b[43m,\u001b[49m\u001b[43m \u001b[49m\u001b[43my_train\u001b[49m\u001b[43m,\u001b[49m\u001b[43m \u001b[49m\u001b[43mface\u001b[49m\u001b[38;5;241;43m.\u001b[39;49m\u001b[43mbatch_size\u001b[49m\u001b[43m)\u001b[49m\u001b[43m,\u001b[49m\n\u001b[0;32m     27\u001b[0m \u001b[43m    \u001b[49m\u001b[43msteps_per_epoch\u001b[49m\u001b[38;5;241;43m=\u001b[39;49m\u001b[38;5;28;43mlen\u001b[39;49m\u001b[43m(\u001b[49m\u001b[43my_train\u001b[49m\u001b[43m)\u001b[49m\u001b[43m \u001b[49m\u001b[38;5;241;43m/\u001b[39;49m\u001b[38;5;241;43m/\u001b[39;49m\u001b[43m \u001b[49m\u001b[43mface\u001b[49m\u001b[38;5;241;43m.\u001b[39;49m\u001b[43mbatch_size\u001b[49m\u001b[43m,\u001b[49m\n\u001b[0;32m     28\u001b[0m \u001b[43m    \u001b[49m\u001b[43mepochs\u001b[49m\u001b[38;5;241;43m=\u001b[39;49m\u001b[43mface\u001b[49m\u001b[38;5;241;43m.\u001b[39;49m\u001b[43mepochs\u001b[49m\u001b[43m,\u001b[49m\n\u001b[0;32m     29\u001b[0m \u001b[43m    \u001b[49m\u001b[43mvalidation_data\u001b[49m\u001b[38;5;241;43m=\u001b[39;49m\u001b[43mface\u001b[49m\u001b[38;5;241;43m.\u001b[39;49m\u001b[43mgenerate_batch\u001b[49m\u001b[43m(\u001b[49m\u001b[43mx_test\u001b[49m\u001b[43m,\u001b[49m\u001b[43m \u001b[49m\u001b[43my_test\u001b[49m\u001b[43m,\u001b[49m\u001b[43m \u001b[49m\u001b[43mface\u001b[49m\u001b[38;5;241;43m.\u001b[39;49m\u001b[43mbatch_size\u001b[49m\u001b[43m)\u001b[49m\u001b[43m,\u001b[49m\n\u001b[0;32m     30\u001b[0m \u001b[43m    \u001b[49m\u001b[43mvalidation_steps\u001b[49m\u001b[38;5;241;43m=\u001b[39;49m\u001b[38;5;28;43mlen\u001b[39;49m\u001b[43m(\u001b[49m\u001b[43my_test\u001b[49m\u001b[43m)\u001b[49m\u001b[43m \u001b[49m\u001b[38;5;241;43m/\u001b[39;49m\u001b[38;5;241;43m/\u001b[39;49m\u001b[43m \u001b[49m\u001b[43mface\u001b[49m\u001b[38;5;241;43m.\u001b[39;49m\u001b[43mbatch_size\u001b[49m\n\u001b[0;32m     31\u001b[0m \u001b[43m)\u001b[49m\n\u001b[0;32m     33\u001b[0m \u001b[38;5;66;03m# Evaluate the model\u001b[39;00m\n\u001b[0;32m     34\u001b[0m test_loss, test_accuracy \u001b[38;5;241m=\u001b[39m model\u001b[38;5;241m.\u001b[39mevaluate(\n\u001b[0;32m     35\u001b[0m     face\u001b[38;5;241m.\u001b[39mgenerate_batch(x_test, y_test, face\u001b[38;5;241m.\u001b[39mbatch_size),\n\u001b[0;32m     36\u001b[0m     steps\u001b[38;5;241m=\u001b[39m\u001b[38;5;28mlen\u001b[39m(y_test) \u001b[38;5;241m/\u001b[39m\u001b[38;5;241m/\u001b[39m face\u001b[38;5;241m.\u001b[39mbatch_size\n\u001b[0;32m     37\u001b[0m )\n",
      "File \u001b[1;32mc:\\Python311\\Lib\\site-packages\\keras\\src\\utils\\traceback_utils.py:70\u001b[0m, in \u001b[0;36mfilter_traceback.<locals>.error_handler\u001b[1;34m(*args, **kwargs)\u001b[0m\n\u001b[0;32m     67\u001b[0m     filtered_tb \u001b[38;5;241m=\u001b[39m _process_traceback_frames(e\u001b[38;5;241m.\u001b[39m__traceback__)\n\u001b[0;32m     68\u001b[0m     \u001b[38;5;66;03m# To get the full stack trace, call:\u001b[39;00m\n\u001b[0;32m     69\u001b[0m     \u001b[38;5;66;03m# `tf.debugging.disable_traceback_filtering()`\u001b[39;00m\n\u001b[1;32m---> 70\u001b[0m     \u001b[38;5;28;01mraise\u001b[39;00m e\u001b[38;5;241m.\u001b[39mwith_traceback(filtered_tb) \u001b[38;5;28;01mfrom\u001b[39;00m \u001b[38;5;28;01mNone\u001b[39;00m\n\u001b[0;32m     71\u001b[0m \u001b[38;5;28;01mfinally\u001b[39;00m:\n\u001b[0;32m     72\u001b[0m     \u001b[38;5;28;01mdel\u001b[39;00m filtered_tb\n",
      "File \u001b[1;32mc:\\Users\\saish\\Desktop\\158_Project\\Code\\FaceAndIris_Recognition\\siamese_face.py:51\u001b[0m, in \u001b[0;36mgenerate_batch\u001b[1;34m(x_test, y_test, batch_size)\u001b[0m\n\u001b[0;32m     49\u001b[0m \u001b[38;5;28;01mwhile\u001b[39;00m \u001b[38;5;28;01mTrue\u001b[39;00m:\n\u001b[0;32m     50\u001b[0m     batch_indices \u001b[38;5;241m=\u001b[39m random\u001b[38;5;241m.\u001b[39msample(\u001b[38;5;28mrange\u001b[39m(\u001b[38;5;28mlen\u001b[39m(x_test)), batch_size)\n\u001b[1;32m---> 51\u001b[0m     \u001b[38;5;28;01myield\u001b[39;00m \u001b[43mgenerate_single_batch\u001b[49m\u001b[43m(\u001b[49m\u001b[43mx_test\u001b[49m\u001b[43m,\u001b[49m\u001b[43m \u001b[49m\u001b[43my_test\u001b[49m\u001b[43m,\u001b[49m\u001b[43m \u001b[49m\u001b[43mbatch_indices\u001b[49m\u001b[43m)\u001b[49m\n",
      "File \u001b[1;32mc:\\Users\\saish\\Desktop\\158_Project\\Code\\FaceAndIris_Recognition\\siamese_face.py:41\u001b[0m, in \u001b[0;36mgenerate_single_batch\u001b[1;34m(x_test, y_test, batch_indices)\u001b[0m\n\u001b[0;32m     39\u001b[0m pair \u001b[38;5;241m=\u001b[39m x_test[idx]\n\u001b[0;32m     40\u001b[0m label \u001b[38;5;241m=\u001b[39m y_test[idx]\n\u001b[1;32m---> 41\u001b[0m \u001b[43mX\u001b[49m\u001b[43m[\u001b[49m\u001b[43mi\u001b[49m\u001b[43m]\u001b[49m \u001b[38;5;241m=\u001b[39m pair[\u001b[38;5;241m0\u001b[39m]\n\u001b[0;32m     42\u001b[0m X2[i] \u001b[38;5;241m=\u001b[39m pair[\u001b[38;5;241m1\u001b[39m]\n\u001b[0;32m     43\u001b[0m Y[i] \u001b[38;5;241m=\u001b[39m label\n",
      "\u001b[1;31mValueError\u001b[0m: could not broadcast input array from shape (48,) into shape (128,128,3)"
     ]
    }
   ],
   "source": [
    "# Create Siamese network branches\n",
    "base_network = face.create_siamese_network(\n",
    "    face.input_shape, face.embedding_dim)\n",
    "\n",
    "input_a = face.layers.Input(shape=face.input_shape)\n",
    "input_b = face.layers.Input(shape=face.input_shape)\n",
    "\n",
    "processed_a = base_network(input_a)\n",
    "processed_b = base_network(input_b)\n",
    "\n",
    "# Calculate L1 distance between the embeddings\n",
    "distance = face.tf.abs(processed_a - processed_b)\n",
    "\n",
    "# Output layer\n",
    "output = face.layers.Dense(1, activation='sigmoid')(distance)\n",
    "\n",
    "# Create Siamese network model\n",
    "model = face.models.Model([input_a, input_b], output)\n",
    "\n",
    "# Compile the model\n",
    "model.compile(optimizer='adam', loss='binary_crossentropy',\n",
    "              metrics=['accuracy'])\n",
    "\n",
    "# Train the model\n",
    "history = model.fit(\n",
    "    face.generate_batch(x_train, y_train, face.batch_size),\n",
    "    steps_per_epoch=len(y_train) // face.batch_size,\n",
    "    epochs=face.epochs,\n",
    "    validation_data=face.generate_batch(x_test, y_test, face.batch_size),\n",
    "    validation_steps=len(y_test) // face.batch_size\n",
    ")\n",
    "\n",
    "# Evaluate the model\n",
    "test_loss, test_accuracy = model.evaluate(\n",
    "    face.generate_batch(x_test, y_test, face.batch_size),\n",
    "    steps=len(y_test) // face.batch_size\n",
    ")\n",
    "\n",
    "print(f\"Test Accuracy: {test_accuracy * 100:.2f}%\")"
   ]
  },
  {
   "cell_type": "markdown",
   "metadata": {},
   "source": [
    "### Iris Section"
   ]
  },
  {
   "cell_type": "code",
   "execution_count": null,
   "metadata": {},
   "outputs": [],
   "source": [
    "# Define constants\n",
    "data_dir = \"Dataset/VISA_Iris/VISA_Iris\"\n",
    "\n",
    "\n",
    "# Load and preprocess dataset\n",
    "class_dirs = os.listdir(data_dir)\n",
    "pairs = []\n",
    "labels = []\n",
    "\n",
    "for class_dir in class_dirs:\n",
    "    left_images = iris.find_images(os.path.join(data_dir, class_dir, \"L\"))\n",
    "    right_images = iris.find_images(os.path.join(data_dir, class_dir, \"R\"))\n",
    "    for left_image in left_images:\n",
    "        for right_image in right_images:\n",
    "            pairs.append((left_image, right_image))\n",
    "            labels.append(1 if class_dir == left_image.split(\"/\")[-2] else 0)\n",
    "\n",
    "# Split dataset into train and test sets\n",
    "x_train, x_test, y_train, y_test = iris.train_test_split(\n",
    "    pairs, labels, test_size=0.2, random_state=42)\n",
    "\n",
    "# Create Siamese network branches\n",
    "base_network = iris.create_siamese_network(\n",
    "    iris.input_shape, iris.embedding_dim)\n",
    "input_a = iris.layers.Input(shape=iris.input_shape)\n",
    "input_b = iris.layers.Input(shape=iris.input_shape)\n",
    "\n",
    "processed_a = base_network(input_a)\n",
    "processed_b = base_network(input_b)\n",
    "\n",
    "# Calculate L1 distance between the embeddings\n",
    "distance = iris.tf.abs(processed_a - processed_b)\n",
    "\n",
    "# Output layer\n",
    "output = iris.layers.Dense(1, activation='sigmoid')(distance)\n",
    "\n",
    "# Create Siamese network model\n",
    "model = iris.models.Model([input_a, input_b], output)\n",
    "\n",
    "# Compile the model\n",
    "model.compile(optimizer='adam', loss='binary_crossentropy',\n",
    "              metrics=['accuracy'])\n",
    "\n",
    "\n",
    "# Train the model\n",
    "history = model.fit(\n",
    "    iris.generate_batch(x_train, y_train, iris.batch_size),\n",
    "    steps_per_epoch=len(y_train) // iris.batch_size,\n",
    "    epochs=iris.epochs,\n",
    "    validation_data=iris.generate_batch(\n",
    "        x_test, y_test, iris.batch_size),\n",
    "    validation_steps=len(y_test) // iris.batch_size\n",
    ")\n",
    "\n",
    "# Evaluate the model\n",
    "test_loss, test_accuracy = model.evaluate(\n",
    "    iris.generate_batch(x_test, y_test, iris.batch_size),\n",
    "    steps=len(y_test) // iris.batch_size\n",
    ")\n",
    "\n",
    "print(f\"Test Accuracy: {test_accuracy * 100:.2f}%\")"
   ]
  }
 ],
 "metadata": {
  "kernelspec": {
   "display_name": "Python 3",
   "language": "python",
   "name": "python3"
  },
  "language_info": {
   "codemirror_mode": {
    "name": "ipython",
    "version": 3
   },
   "file_extension": ".py",
   "mimetype": "text/x-python",
   "name": "python",
   "nbconvert_exporter": "python",
   "pygments_lexer": "ipython3",
   "version": "3.11.4"
  }
 },
 "nbformat": 4,
 "nbformat_minor": 2
}
