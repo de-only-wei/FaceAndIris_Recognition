{
 "cells": [
  {
   "cell_type": "code",
   "execution_count": null,
   "metadata": {},
   "outputs": [],
   "source": [
    "import numpy as np\n",
    "from sklearn.model_selection import train_test_split\n",
    "from sklearn.preprocessing import StandardScaler\n",
    "from sklearn.metrics import accuracy_score\n",
    "from sklearn.cluster import KMeans\n",
    "from sklearn import datasets\n",
    "from sklearn.pipeline import make_pipeline\n",
    "from sklearn.neural_network import MLPClassifier\n",
    "from sklearn.cluster import MiniBatchKMeans\n",
    "from sklearn.preprocessing import OneHotEncoder"
   ]
  },
  {
   "cell_type": "code",
   "execution_count": 1,
   "metadata": {},
   "outputs": [
    {
     "ename": "NameError",
     "evalue": "name 'X_face' is not defined",
     "output_type": "error",
     "traceback": [
      "\u001b[0;31m---------------------------------------------------------------------------\u001b[0m",
      "\u001b[0;31mNameError\u001b[0m                                 Traceback (most recent call last)",
      "Cell \u001b[0;32mIn[1], line 66\u001b[0m\n\u001b[1;32m     62\u001b[0m     \u001b[38;5;28mprint\u001b[39m(\u001b[38;5;124m\"\u001b[39m\u001b[38;5;124mAccuracy:\u001b[39m\u001b[38;5;124m\"\u001b[39m, accuracy)\n\u001b[1;32m     65\u001b[0m \u001b[38;5;28;01mif\u001b[39;00m \u001b[38;5;18m__name__\u001b[39m \u001b[38;5;241m==\u001b[39m \u001b[38;5;124m\"\u001b[39m\u001b[38;5;124m__main__\u001b[39m\u001b[38;5;124m\"\u001b[39m:\n\u001b[0;32m---> 66\u001b[0m     \u001b[43mmain\u001b[49m\u001b[43m(\u001b[49m\u001b[43m)\u001b[49m\n",
      "Cell \u001b[0;32mIn[1], line 44\u001b[0m, in \u001b[0;36mmain\u001b[0;34m()\u001b[0m\n\u001b[1;32m     42\u001b[0m \u001b[38;5;28;01mdef\u001b[39;00m \u001b[38;5;21mmain\u001b[39m():\n\u001b[1;32m     43\u001b[0m     \u001b[38;5;66;03m# Load datasets\u001b[39;00m\n\u001b[0;32m---> 44\u001b[0m     X_face, y_face \u001b[38;5;241m=\u001b[39m \u001b[43mload_face_dataset\u001b[49m\u001b[43m(\u001b[49m\u001b[43m)\u001b[49m\n\u001b[1;32m     45\u001b[0m     X_iris, y_iris \u001b[38;5;241m=\u001b[39m load_iris_dataset()\n\u001b[1;32m     47\u001b[0m     \u001b[38;5;66;03m# Fuse datasets\u001b[39;00m\n",
      "Cell \u001b[0;32mIn[1], line 5\u001b[0m, in \u001b[0;36mload_face_dataset\u001b[0;34m()\u001b[0m\n\u001b[1;32m      2\u001b[0m \u001b[38;5;28;01mdef\u001b[39;00m \u001b[38;5;21mload_face_dataset\u001b[39m():\n\u001b[1;32m      3\u001b[0m     \u001b[38;5;66;03m# Load face dataset\u001b[39;00m\n\u001b[1;32m      4\u001b[0m     \u001b[38;5;66;03m# Your code to load face dataset goes here\u001b[39;00m\n\u001b[0;32m----> 5\u001b[0m     \u001b[38;5;28;01mreturn\u001b[39;00m \u001b[43mX_face\u001b[49m, y_face\n",
      "\u001b[0;31mNameError\u001b[0m: name 'X_face' is not defined"
     ]
    }
   ],
   "source": [
    "# Function to load face dataset\n",
    "def load_face_dataset():\n",
    "    # Load face dataset\n",
    "    # Your code to load face dataset goes here\n",
    "    return X_face, y_face\n",
    "\n",
    "# Function to load iris dataset\n",
    "\n",
    "\n",
    "def load_iris_dataset():\n",
    "    # Load iris dataset\n",
    "    iris = datasets.load_iris()\n",
    "    X_iris, y_iris = iris.data, iris.target\n",
    "    return X_iris, y_iris\n",
    "\n",
    "# Function to fuse face and iris datasets\n",
    "\n",
    "\n",
    "def fuse_datasets(X_face, X_iris):\n",
    "    # Your code to fuse the datasets goes here\n",
    "    # You can concatenate the features or use other fusion techniques\n",
    "    X_fused = np.concatenate((X_face, X_iris), axis=1)\n",
    "    return X_fused\n",
    "\n",
    "# Function to train Radial Basis Neural Network\n",
    "\n",
    "\n",
    "def train_rbfnn(X_train, y_train):\n",
    "    # Your code to train RBFNN goes here\n",
    "    rbfnn = make_pipeline(\n",
    "        StandardScaler(),\n",
    "        MiniBatchKMeans(n_clusters=2),\n",
    "        MLPClassifier(hidden_layer_sizes=(10,),\n",
    "                      activation='logistic', solver='lbfgs')\n",
    "    )\n",
    "    rbfnn.fit(X_train, y_train)\n",
    "    return rbfnn\n",
    "\n",
    "# Main function\n",
    "\n",
    "\n",
    "def main():\n",
    "    # Load datasets\n",
    "    X_face, y_face = load_face_dataset()\n",
    "    X_iris, y_iris = load_iris_dataset()\n",
    "\n",
    "    # Fuse datasets\n",
    "    X_fused = fuse_datasets(X_face, X_iris)\n",
    "\n",
    "    # Split fused dataset into training and testing sets\n",
    "    X_train, X_test, y_train, y_test = train_test_split(\n",
    "        X_fused, y_face, test_size=0.2, random_state=42)\n",
    "\n",
    "    # Train RBFNN\n",
    "    rbfnn = train_rbfnn(X_train, y_train)\n",
    "\n",
    "    # Predict on test set\n",
    "    y_pred = rbfnn.predict(X_test)\n",
    "\n",
    "    # Evaluate accuracy\n",
    "    accuracy = accuracy_score(y_test, y_pred)\n",
    "    print(\"Accuracy:\", accuracy)\n",
    "\n",
    "\n",
    "if __name__ == \"__main__\":\n",
    "    main()"
   ]
  }
 ],
 "metadata": {
  "kernelspec": {
   "display_name": "Python 3",
   "language": "python",
   "name": "python3"
  },
  "language_info": {
   "codemirror_mode": {
    "name": "ipython",
    "version": 3
   },
   "file_extension": ".py",
   "mimetype": "text/x-python",
   "name": "python",
   "nbconvert_exporter": "python",
   "pygments_lexer": "ipython3",
   "version": "3.12.3"
  }
 },
 "nbformat": 4,
 "nbformat_minor": 2
}
