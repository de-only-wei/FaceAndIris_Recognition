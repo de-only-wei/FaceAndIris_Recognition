{
 "cells": [
  {
   "cell_type": "code",
   "execution_count": null,
   "metadata": {},
   "outputs": [],
   "source": [
    "import os\n",
    "import pandas as pd\n",
    "import numpy as np\n",
    "from tensorflow.keras.applications import MobileNetV3Large\n",
    "from face_utilities import parse_face_dataset, face_detection, extract_facial_landmarks, landmarks_to_features, split_data\n",
    "import face_utilities as face\n",
    "\n",
    "# MobileNet was designed to work on 224 x 224 pixel input images sizes\n",
    "img_rows, img_cols = 224, 224\n",
    "\n",
    "# Re-loads the MobileNet model without the top or FC layers\n",
    "MobileNet = MobileNetV3Large(weights='imagenet',\n",
    "                             include_top=False,\n",
    "                             input_shape=(img_rows, img_cols, 3))\n",
    "\n",
    "# Here we freeze the last 4 layers\n",
    "# Layers are set to trainable as True by default\n",
    "for layer in MobileNet.layers:\n",
    "    layer.trainable = False\n",
    "\n",
    "# Let's print our layers\n",
    "for (i, layer) in enumerate(MobileNet.layers):\n",
    "    print(str(i) + \" \" + layer.__class__.__name__, layer.trainable)\n",
    "\n",
    "# Call the functions from face_utilities\n",
    "face_images = parse_face_dataset()  # Parse the face dataset\n",
    "face_detection(face_images, display=False)  # Perform face detection\n",
    "\n",
    "# PHASE 3 - Extract facial landmarks from an image\n",
    "input_directory_extraction = 'Face_Output/Face_Output_Feature_Extraction'\n",
    "# Output directory for saving images with facial landmarks\n",
    "output_directory_landmarks = 'Face_Output'\n",
    "extract_facial_landmarks(input_directory_extraction,\n",
    "                         output_directory_landmarks)\n",
    "\n",
    "# PHASE 4 - Convert landmarks to features\n",
    "print(\"Converting facial landmarks to feature vectors STARTED...\")\n",
    "output_dir = 'Face_Output/Face_Output_LFCV'\n",
    "features, labels = landmarks_to_features(\n",
    "    face.features, output_dir=output_dir)\n",
    "print(\"Converting facial landmarks to feature vectors COMPLETE!\")\n",
    "\n",
    "# PHASE 5 - Split data into training and testing sets\n",
    "print(\"Splitting Data STARTED...\")\n",
    "train_dir = 'Face_Output/Face_Output_Split_Train'\n",
    "test_dir = 'Face_Output/Face_Output_Split_Test'\n",
    "split_data(features, labels, train_dir, test_dir)\n",
    "print(\"Splitting Data COMPLETE!\")"
   ]
  }
 ],
 "metadata": {
  "kernelspec": {
   "display_name": "Python 3",
   "language": "python",
   "name": "python3"
  },
  "language_info": {
   "codemirror_mode": {
    "name": "ipython",
    "version": 3
   },
   "file_extension": ".py",
   "mimetype": "text/x-python",
   "name": "python",
   "nbconvert_exporter": "python",
   "pygments_lexer": "ipython3",
   "version": "3.11.4"
  }
 },
 "nbformat": 4,
 "nbformat_minor": 2
}
